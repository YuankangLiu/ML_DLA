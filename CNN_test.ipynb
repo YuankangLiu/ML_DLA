{
  "nbformat": 4,
  "nbformat_minor": 0,
  "metadata": {
    "colab": {
      "name": "CNN_test.ipynb",
      "provenance": [],
      "machine_shape": "hm",
      "authorship_tag": "ABX9TyOPqosz/zGYhqmLMGcS+ZaA",
      "include_colab_link": true
    },
    "kernelspec": {
      "name": "python3",
      "display_name": "Python 3"
    },
    "language_info": {
      "name": "python"
    },
    "accelerator": "GPU"
  },
  "cells": [
    {
      "cell_type": "markdown",
      "metadata": {
        "id": "view-in-github",
        "colab_type": "text"
      },
      "source": [
        "<a href=\"https://colab.research.google.com/github/moonlovist/ML_DLA/blob/main/CNN_test.ipynb\" target=\"_parent\"><img src=\"https://colab.research.google.com/assets/colab-badge.svg\" alt=\"Open In Colab\"/></a>"
      ]
    },
    {
      "cell_type": "code",
      "metadata": {
        "colab": {
          "base_uri": "https://localhost:8080/"
        },
        "id": "troE4VOy_VHQ",
        "outputId": "5d054952-9456-4849-fb4f-e0f782a975a3"
      },
      "source": [
        "import numpy as np\n",
        "from astropy.io import fits\n",
        "from astropy.table import Table\n",
        "import os\n",
        "from sklearn import preprocessing\n",
        "\n",
        "from keras.preprocessing.image import ImageDataGenerator\n",
        "from keras.models import Sequential\n",
        "from keras.layers.core import Dense, Dropout, Activation, Flatten\n",
        "from keras.layers import  BatchNormalization\n",
        "from keras.layers.convolutional import Conv2D\n",
        "from keras.layers import MaxPool2D\n",
        "from sklearn.model_selection import train_test_split\n",
        "from tensorflow.keras import layers, models\n",
        "\n",
        "from keras.callbacks import EarlyStopping\n",
        "from keras.callbacks import ModelCheckpoint\n",
        "from keras.callbacks import TensorBoard\n",
        "\n",
        "from sklearn.metrics import roc_curve, precision_recall_curve, accuracy_score,auc\n",
        "\n",
        "%pylab inline"
      ],
      "execution_count": 1,
      "outputs": [
        {
          "output_type": "stream",
          "name": "stdout",
          "text": [
            "Populating the interactive namespace from numpy and matplotlib\n"
          ]
        }
      ]
    },
    {
      "cell_type": "code",
      "metadata": {
        "colab": {
          "base_uri": "https://localhost:8080/"
        },
        "id": "WabjrW_O_bsq",
        "outputId": "7ce9dc97-6569-440e-a45f-82a8064482b2"
      },
      "source": [
        "from google.colab import drive\n",
        "drive.mount('/content/drive')"
      ],
      "execution_count": 2,
      "outputs": [
        {
          "output_type": "stream",
          "name": "stdout",
          "text": [
            "Mounted at /content/drive\n"
          ]
        }
      ]
    },
    {
      "cell_type": "code",
      "metadata": {
        "id": "Xo6Ckpi7_bvB"
      },
      "source": [
        "pathinData=\"/content/drive/My Drive/ML_DLA\"\n",
        "pathout='/content/drive/My Drive/ML_DLA/model'\n",
        "model_name = '/cnn_id_SN_3_NHI_20'  #name of the final model which is saved in pathout\n"
      ],
      "execution_count": 3,
      "outputs": []
    },
    {
      "cell_type": "code",
      "metadata": {
        "colab": {
          "base_uri": "https://localhost:8080/"
        },
        "id": "jlDzx6C6_bxN",
        "outputId": "220fd6dd-1f95-4a85-9f7f-070be42e05ba"
      },
      "source": [
        "import keras\n",
        "print(\"Predicting...\")\n",
        "print(\"====================\")\n",
        "LOAD_MODEL=True\n",
        "if LOAD_MODEL:\n",
        "  cnn = keras.models.load_model(pathout+model_name+\"_best.hd5\")"
      ],
      "execution_count": 4,
      "outputs": [
        {
          "output_type": "stream",
          "name": "stdout",
          "text": [
            "Predicting...\n",
            "====================\n"
          ]
        }
      ]
    },
    {
      "cell_type": "code",
      "metadata": {
        "id": "06tC_zFZ_b1k"
      },
      "source": [
        "X = fits.open(pathinData+'/files/Classification_catalog_SN_all_NHI_20_mock_4.7.01.fits')[0].data\n",
        "X = np.expand_dims(X,axis=2)\n",
        "Y1_id = fits.open(pathinData+'/files/Classification_id_SN_all_NHI_20_mock_4.7.01.fits')[1].data\n",
        "Y1 = fits.open(pathinData+'/files/Classification_id_SN_all_NHI_20_mock_4.7.01.fits')[0].data"
      ],
      "execution_count": 5,
      "outputs": []
    },
    {
      "cell_type": "code",
      "metadata": {
        "id": "27N9T693_b4R"
      },
      "source": [
        "Y1_id = Y1_id[Y1==1]\n",
        "X = X[Y1==1]\n",
        "mu = np.median(X,axis=(1,2))\n",
        "X_test = X\n",
        "for i in range(0,mu.shape[0]):\n",
        "  X_test[i,:,:] = X[i,:,:]/mu[i]\n",
        "Y_pred_all = cnn.predict(X_test)\n",
        "Y_pred_class_all=Y_pred_all*0\n",
        "Y_pred_class_all[Y_pred_all>0.5]=1"
      ],
      "execution_count": 6,
      "outputs": []
    },
    {
      "cell_type": "code",
      "metadata": {
        "id": "PO_4pvKR_b6w"
      },
      "source": [
        "import pandas as pd\n",
        "data = pd.DataFrame({'id':Y1_id,'prediction':Y_pred_class_all.reshape(-1)})\n",
        "data_mean = data.groupby('id').agg('mean')"
      ],
      "execution_count": 7,
      "outputs": []
    },
    {
      "cell_type": "code",
      "metadata": {
        "colab": {
          "base_uri": "https://localhost:8080/"
        },
        "id": "7V7iFG1G_b8N",
        "outputId": "006dc983-3911-4916-cf1b-8000b6e055ff"
      },
      "source": [
        "data_mean.shape[0]"
      ],
      "execution_count": 8,
      "outputs": [
        {
          "output_type": "execute_result",
          "data": {
            "text/plain": [
              "16605"
            ]
          },
          "metadata": {},
          "execution_count": 8
        }
      ]
    },
    {
      "cell_type": "code",
      "metadata": {
        "colab": {
          "base_uri": "https://localhost:8080/",
          "height": 450
        },
        "id": "orBrvvPJa0nt",
        "outputId": "44a86785-c692-4008-877a-b3bba9b7d573"
      },
      "source": [
        "data_mean"
      ],
      "execution_count": 10,
      "outputs": [
        {
          "output_type": "execute_result",
          "data": {
            "text/html": [
              "<div>\n",
              "<style scoped>\n",
              "    .dataframe tbody tr th:only-of-type {\n",
              "        vertical-align: middle;\n",
              "    }\n",
              "\n",
              "    .dataframe tbody tr th {\n",
              "        vertical-align: top;\n",
              "    }\n",
              "\n",
              "    .dataframe thead th {\n",
              "        text-align: right;\n",
              "    }\n",
              "</style>\n",
              "<table border=\"1\" class=\"dataframe\">\n",
              "  <thead>\n",
              "    <tr style=\"text-align: right;\">\n",
              "      <th></th>\n",
              "      <th>prediction</th>\n",
              "    </tr>\n",
              "    <tr>\n",
              "      <th>id</th>\n",
              "      <th></th>\n",
              "    </tr>\n",
              "  </thead>\n",
              "  <tbody>\n",
              "    <tr>\n",
              "      <th>(1160000499,)</th>\n",
              "      <td>0.996364</td>\n",
              "    </tr>\n",
              "    <tr>\n",
              "      <th>(1164000610,)</th>\n",
              "      <td>1.000000</td>\n",
              "    </tr>\n",
              "    <tr>\n",
              "      <th>(1164000621,)</th>\n",
              "      <td>0.000000</td>\n",
              "    </tr>\n",
              "    <tr>\n",
              "      <th>(1166000592,)</th>\n",
              "      <td>1.000000</td>\n",
              "    </tr>\n",
              "    <tr>\n",
              "      <th>(1168000608,)</th>\n",
              "      <td>0.745520</td>\n",
              "    </tr>\n",
              "    <tr>\n",
              "      <th>...</th>\n",
              "      <td>...</td>\n",
              "    </tr>\n",
              "    <tr>\n",
              "      <th>(7296000517,)</th>\n",
              "      <td>0.965517</td>\n",
              "    </tr>\n",
              "    <tr>\n",
              "      <th>(7299000447,)</th>\n",
              "      <td>0.996416</td>\n",
              "    </tr>\n",
              "    <tr>\n",
              "      <th>(7300000584,)</th>\n",
              "      <td>0.000000</td>\n",
              "    </tr>\n",
              "    <tr>\n",
              "      <th>(7300000619,)</th>\n",
              "      <td>0.976852</td>\n",
              "    </tr>\n",
              "    <tr>\n",
              "      <th>(7303000557,)</th>\n",
              "      <td>1.000000</td>\n",
              "    </tr>\n",
              "  </tbody>\n",
              "</table>\n",
              "<p>16605 rows × 1 columns</p>\n",
              "</div>"
            ],
            "text/plain": [
              "               prediction\n",
              "id                       \n",
              "(1160000499,)    0.996364\n",
              "(1164000610,)    1.000000\n",
              "(1164000621,)    0.000000\n",
              "(1166000592,)    1.000000\n",
              "(1168000608,)    0.745520\n",
              "...                   ...\n",
              "(7296000517,)    0.965517\n",
              "(7299000447,)    0.996416\n",
              "(7300000584,)    0.000000\n",
              "(7300000619,)    0.976852\n",
              "(7303000557,)    1.000000\n",
              "\n",
              "[16605 rows x 1 columns]"
            ]
          },
          "metadata": {},
          "execution_count": 10
        }
      ]
    },
    {
      "cell_type": "code",
      "metadata": {
        "colab": {
          "base_uri": "https://localhost:8080/"
        },
        "id": "jb458I4k_b-k",
        "outputId": "43ad6a9d-1b4e-469b-de94-8adbf9978ab8"
      },
      "source": [
        "print('completeness:',data_mean.loc[data_mean['prediction']>0.5].shape[0]/data_mean.shape[0])"
      ],
      "execution_count": 12,
      "outputs": [
        {
          "output_type": "stream",
          "name": "stdout",
          "text": [
            "completeness: 0.9394158386028305\n"
          ]
        }
      ]
    },
    {
      "cell_type": "markdown",
      "metadata": {
        "id": "9i3l_D0rcI19"
      },
      "source": [
        "Accuracy"
      ]
    },
    {
      "cell_type": "code",
      "metadata": {
        "id": "XROGSCJhcKyk"
      },
      "source": [
        "X = fits.open(pathinData+'/files/Classification_catalog_SN_all_NHI_20_mock_4.7.01.fits')[0].data\n",
        "X = np.expand_dims(X,axis=2)\n",
        "Y1_id = fits.open(pathinData+'/files/Classification_id_SN_all_NHI_20_mock_4.7.01.fits')[1].data\n",
        "Y1 = fits.open(pathinData+'/files/Classification_id_SN_all_NHI_20_mock_4.7.01.fits')[0].data"
      ],
      "execution_count": 4,
      "outputs": []
    },
    {
      "cell_type": "code",
      "metadata": {
        "id": "0Ro2-ysBcK0z"
      },
      "source": [
        "mu = np.median(X,axis=(1,2))\n",
        "X_test = X\n",
        "for i in range(0,mu.shape[0]):\n",
        "  X_test[i,:,:] = X[i,:,:]/mu[i]\n",
        "Y_pred_all = cnn.predict(X_test)\n",
        "#Y_pred = Y_pred_all.reshape(-1)*0\n",
        "#Y_pred[Y_pred_all.reshape(-1)>0.5]=1"
      ],
      "execution_count": null,
      "outputs": []
    },
    {
      "cell_type": "code",
      "metadata": {
        "id": "9unPZNapcK3D"
      },
      "source": [
        "import pandas as pd\n",
        "data = pd.DataFrame({'id':Y1_id,'prediction':Y_pred_all.reshape(-1),'true':Y1})\n",
        "data_mean = data.groupby('id').agg('mean')\n",
        "data_mean['prediction']>0.5 = 1\n",
        "data_mean['prediction']<0.5 = 0"
      ],
      "execution_count": null,
      "outputs": []
    },
    {
      "cell_type": "code",
      "metadata": {
        "id": "YKpaMfztx3Gv"
      },
      "source": [
        "data_mean_completeness = data_mean.loc[data_mean['true']==1]\n",
        "print('completeness:',np.count_nonzero(data_mean_completeness['prediction']==data_mean_completeness['true'])/data_mean_completeness.shape[0])\n",
        "print('purity:',np.count_nonzero(data_mean['prediction']==data_mean['true'])/data_mean.shape[0])"
      ],
      "execution_count": null,
      "outputs": []
    }
  ]
}