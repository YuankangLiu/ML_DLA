{
  "nbformat": 4,
  "nbformat_minor": 0,
  "metadata": {
    "accelerator": "GPU",
    "colab": {
      "name": "DLA_CNN_ting.ipynb",
      "provenance": [],
      "collapsed_sections": [],
      "toc_visible": true,
      "machine_shape": "hm",
      "include_colab_link": true
    },
    "kernelspec": {
      "display_name": "Python 3",
      "language": "python",
      "name": "python3"
    },
    "language_info": {
      "codemirror_mode": {
        "name": "ipython",
        "version": 3
      },
      "file_extension": ".py",
      "mimetype": "text/x-python",
      "name": "python",
      "nbconvert_exporter": "python",
      "pygments_lexer": "ipython3",
      "version": "3.8.5"
    }
  },
  "cells": [
    {
      "cell_type": "markdown",
      "metadata": {
        "id": "view-in-github",
        "colab_type": "text"
      },
      "source": [
        "<a href=\"https://colab.research.google.com/github/moonlovist/ML_DLA/blob/main/DLA_1D_CNN_NHI.ipynb\" target=\"_parent\"><img src=\"https://colab.research.google.com/assets/colab-badge.svg\" alt=\"Open In Colab\"/></a>"
      ]
    },
    {
      "cell_type": "markdown",
      "metadata": {
        "id": "4jatIhJ9KJQV"
      },
      "source": [
        "#DLA detection within Ly-alpha forests with CNNs\n",
        "\n",
        "We use a Convolutional Neural Network (deep learning) to learn the features from the quasar spectrum of eBOSS DR16 data. The CNN  model is implemented here with Keras and a TensorFlow backend.  We use as training set, the visually classified sample of ~300,000 quasars.\n",
        "\n",
        "---\n",
        "\n",
        "\n",
        "\n",
        "#### Before we start, make sure to open this Colab notebook in \"PlayGround Mode\" (top left) and to change the Runtime type to GPU by navigating to the toolbar and clicking Runtime -> Change runtime type and then changing Hardware accelerator to GPU\n",
        "\n",
        "---"
      ]
    },
    {
      "cell_type": "code",
      "metadata": {
        "colab": {
          "base_uri": "https://localhost:8080/"
        },
        "id": "Hpv-XO8Sxgvi",
        "outputId": "6601c576-ec7c-45a3-b15e-1497ef924636"
      },
      "source": [
        "import numpy as np\n",
        "from astropy.io import fits\n",
        "from astropy.table import Table\n",
        "import os\n",
        "from sklearn import preprocessing\n",
        "import tensorflow as tf\n",
        "import keras\n",
        "from keras.preprocessing.image import ImageDataGenerator\n",
        "from keras.models import Sequential\n",
        "from keras.layers.core import Dense, Dropout, Activation, Flatten\n",
        "from keras.layers import  BatchNormalization\n",
        "from keras.layers.convolutional import Conv2D\n",
        "from keras.layers import MaxPool2D\n",
        "from sklearn.model_selection import train_test_split\n",
        "from tensorflow.keras import layers, models\n",
        "import tensorflow.keras.backend as K\n",
        "from keras.callbacks import EarlyStopping\n",
        "from keras.callbacks import ModelCheckpoint\n",
        "from keras.callbacks import TensorBoard\n",
        "\n",
        "from sklearn.metrics import roc_curve, precision_recall_curve, accuracy_score,auc\n",
        "\n",
        "%pylab inline"
      ],
      "execution_count": 1,
      "outputs": [
        {
          "output_type": "stream",
          "name": "stdout",
          "text": [
            "Populating the interactive namespace from numpy and matplotlib\n"
          ]
        }
      ]
    },
    {
      "cell_type": "markdown",
      "metadata": {
        "id": "5aDPpIjr2WUv"
      },
      "source": [
        ""
      ]
    },
    {
      "cell_type": "code",
      "metadata": {
        "colab": {
          "base_uri": "https://localhost:8080/"
        },
        "id": "8Io82GXlCNdF",
        "outputId": "1123e049-b371-4fb1-b9ff-29c855badddb"
      },
      "source": [
        "from google.colab import drive\n",
        "drive.mount('/content/drive')"
      ],
      "execution_count": 2,
      "outputs": [
        {
          "output_type": "stream",
          "name": "stdout",
          "text": [
            "Mounted at /content/drive\n"
          ]
        }
      ]
    },
    {
      "cell_type": "markdown",
      "metadata": {
        "id": "hTJio12w2SLw"
      },
      "source": [
        ""
      ]
    },
    {
      "cell_type": "markdown",
      "metadata": {
        "id": "-A5hM83EeiH5"
      },
      "source": [
        "## Deep Learning (CNN)\n",
        "This section illustrates how to use a Convolutional Neural Network to estimate the DLA detection. The input of the network are now the spectra themselves without parameters. The CNN then automatically extracts the features. This is the main difference between classical and deep learning."
      ]
    },
    {
      "cell_type": "markdown",
      "metadata": {
        "id": "OErN1Sb5enXV"
      },
      "source": [
        "### Data Download and Preparation"
      ]
    },
    {
      "cell_type": "code",
      "metadata": {
        "id": "uhIqCwEg9UUd"
      },
      "source": [
        "#Load data\n",
        "pathinData=\"/content/drive/My Drive/ML_DLA\"\n",
        "\n",
        "#images\n",
        "X = np.load(pathinData+'/Classification_catalog_SN_6_mock_4.7.01.npy')\n",
        "X = np.expand_dims(X,axis=2)\n",
        "#morphological class\n",
        "Y1 = np.load(pathinData+'/Classification_id_SN_6_mock_4.7.01.npy') \n",
        "Y3 = np.load(pathinData+'/Classification_NHI_SN_6_mock_4.7.01.npy') \n",
        "Y3 = np.round(Y3,3)*Y1\n",
        "#Y = np.transpose(np.vstack((Y1,Y3)))\n",
        "#Y = Y1"
      ],
      "execution_count": 35,
      "outputs": []
    },
    {
      "cell_type": "code",
      "metadata": {
        "colab": {
          "base_uri": "https://localhost:8080/"
        },
        "id": "Ec2HPnKsprAJ",
        "outputId": "f1300583-39a1-4e3e-f889-ba015db307c1"
      },
      "source": [
        "X.shape"
      ],
      "execution_count": null,
      "outputs": [
        {
          "output_type": "execute_result",
          "data": {
            "text/plain": [
              "(1947239, 400, 1)"
            ]
          },
          "metadata": {},
          "execution_count": 14
        }
      ]
    },
    {
      "cell_type": "code",
      "metadata": {
        "colab": {
          "base_uri": "https://localhost:8080/"
        },
        "id": "8aqc3noTjnTi",
        "outputId": "34084e6b-9ace-42a9-f0d8-79d76694c0a5"
      },
      "source": [
        "Y3"
      ],
      "execution_count": null,
      "outputs": [
        {
          "output_type": "execute_result",
          "data": {
            "text/plain": [
              "array([20.326, 20.326, 20.326, ...,  0.   ,  0.   ,  0.   ])"
            ]
          },
          "metadata": {},
          "execution_count": 4
        }
      ]
    },
    {
      "cell_type": "code",
      "metadata": {
        "colab": {
          "base_uri": "https://localhost:8080/"
        },
        "id": "L1GrJMkyqkIv",
        "outputId": "10b456ad-7127-4325-fe51-bef30cb55fe1"
      },
      "source": [
        "Y.shape"
      ],
      "execution_count": null,
      "outputs": [
        {
          "output_type": "execute_result",
          "data": {
            "text/plain": [
              "(1947239, 2)"
            ]
          },
          "metadata": {},
          "execution_count": 16
        }
      ]
    },
    {
      "cell_type": "code",
      "metadata": {
        "colab": {
          "base_uri": "https://localhost:8080/"
        },
        "id": "fWwBHl2inHvl",
        "outputId": "aa8811e5-31ef-483b-e149-7add66a82cf5"
      },
      "source": [
        "Y1[Y1==0].shape"
      ],
      "execution_count": null,
      "outputs": [
        {
          "output_type": "execute_result",
          "data": {
            "text/plain": [
              "(1625660,)"
            ]
          },
          "metadata": {},
          "execution_count": 7
        }
      ]
    },
    {
      "cell_type": "markdown",
      "metadata": {
        "id": "jSGeDuRbsY3L"
      },
      "source": [
        ""
      ]
    },
    {
      "cell_type": "code",
      "metadata": {
        "id": "cE1yYHCYxeX6"
      },
      "source": [
        "X = np.vstack((X[Y1==0][0:Y1[Y1==1].shape[0],:,:],X[Y1==1]))\n",
        "Y3 = np.hstack((Y3[Y1==0][0:Y1[Y1==1].shape[0]],Y3[Y1==1]))\n",
        "Y1 = np.hstack((Y1[Y1==0][0:Y1[Y1==1].shape[0]],Y1[Y1==1]))\n",
        "Y = np.transpose(np.vstack((Y3,Y1)))\n",
        "#Y = Y1"
      ],
      "execution_count": 36,
      "outputs": []
    },
    {
      "cell_type": "code",
      "metadata": {
        "id": "_kTIzwhbsvWU"
      },
      "source": [
        "from sklearn.utils import shuffle\n",
        "X, Y = shuffle(X, Y, random_state=0)"
      ],
      "execution_count": 37,
      "outputs": []
    },
    {
      "cell_type": "code",
      "metadata": {
        "colab": {
          "base_uri": "https://localhost:8080/"
        },
        "id": "s7JrTFYZz96c",
        "outputId": "a35ed29c-35c9-4f55-acc8-494accc2c3bb"
      },
      "source": [
        "# Spliting in Training and Test datasets, 4/5 of galaxies for training, 1/5 for testing\n",
        "x_train = X[0:len(X)//5*3,:,:]\n",
        "x_val = X[len(X)//5*3:len(X)//5*4,:,:]   \n",
        "x_test = X[len(X)//5*4:,:,:]\n",
        "global t_train_classification\n",
        "t_train_classification = Y[0:len(Y)//5*3,0]\n",
        "#t_train = Y[0:len(Y)//5*3,1]\n",
        "#t_val = Y[len(Y)//5*3:len(Y)//5*4,1]\n",
        "#t_test = Y[len(Y)//5*4:,1]\n",
        "t_train = Y[0:len(Y)//5*3,:]\n",
        "t_val = Y[len(Y)//5*3:len(Y)//5*4,:]\n",
        "t_test = Y[len(Y)//5*4:,:]\n",
        "print ('Y_train.shape= ', t_train.shape)   "
      ],
      "execution_count": 38,
      "outputs": [
        {
          "output_type": "stream",
          "name": "stdout",
          "text": [
            "Y_train.shape=  (385893, 2)\n"
          ]
        }
      ]
    },
    {
      "cell_type": "code",
      "metadata": {
        "id": "DDJwFdfEppzI",
        "outputId": "caa147a4-7789-4467-c035-8b437119bcf6",
        "colab": {
          "base_uri": "https://localhost:8080/"
        }
      },
      "source": [
        "x_test.shape"
      ],
      "execution_count": 28,
      "outputs": [
        {
          "output_type": "execute_result",
          "data": {
            "text/plain": [
              "(128634, 400, 1)"
            ]
          },
          "metadata": {},
          "execution_count": 28
        }
      ]
    },
    {
      "cell_type": "code",
      "metadata": {
        "id": "_5dqcSQgp_l2",
        "outputId": "f8de2221-0d7c-495d-c6e7-6af4a03530a4",
        "colab": {
          "base_uri": "https://localhost:8080/"
        }
      },
      "source": [
        "x_train.shape"
      ],
      "execution_count": 29,
      "outputs": [
        {
          "output_type": "execute_result",
          "data": {
            "text/plain": [
              "(385893, 400, 1)"
            ]
          },
          "metadata": {},
          "execution_count": 29
        }
      ]
    },
    {
      "cell_type": "code",
      "metadata": {
        "id": "58wf6W-npuKF",
        "outputId": "6fd4ddba-57c2-44bb-ddbb-238eacca329c",
        "colab": {
          "base_uri": "https://localhost:8080/"
        }
      },
      "source": [
        "t_train.shape"
      ],
      "execution_count": 30,
      "outputs": [
        {
          "output_type": "execute_result",
          "data": {
            "text/plain": [
              "(385893, 2)"
            ]
          },
          "metadata": {},
          "execution_count": 30
        }
      ]
    },
    {
      "cell_type": "code",
      "metadata": {
        "colab": {
          "base_uri": "https://localhost:8080/"
        },
        "id": "hYVJMH0_eEYX",
        "outputId": "c0c647e3-9905-4769-d184-b665a4af9942"
      },
      "source": [
        "t_test"
      ],
      "execution_count": 39,
      "outputs": [
        {
          "output_type": "execute_result",
          "data": {
            "text/plain": [
              "array([[21.504,  1.   ],\n",
              "       [20.384,  1.   ],\n",
              "       [20.308,  1.   ],\n",
              "       ...,\n",
              "       [ 0.   ,  0.   ],\n",
              "       [20.435,  1.   ],\n",
              "       [ 0.   ,  0.   ]])"
            ]
          },
          "metadata": {},
          "execution_count": 39
        }
      ]
    },
    {
      "cell_type": "markdown",
      "metadata": {
        "id": "t8HpW3HM5mAP"
      },
      "source": [
        "### Pre-processing of images (Normalization)"
      ]
    },
    {
      "cell_type": "code",
      "metadata": {
        "id": "7lIPKj4l_rXQ"
      },
      "source": [
        "mu = np.median(x_train,axis=(1,2))\n",
        "for i in range(0,mu.shape[0]):\n",
        "    x_train[i,:,:] = x_train[i,:,:]/mu[i]\n",
        "    \n",
        "mu_test = np.amax(x_test,axis=(1,2))\n",
        "for i in range(0,mu_test.shape[0]):\n",
        "    x_test[i,:,:] = x_test[i,:,:]/mu_test[i]\n",
        "\n",
        "mu_val = np.amax(x_val,axis=(1,2))\n",
        "for i in range(0,mu_val.shape[0]):\n",
        "    x_val[i,:,:] = x_val[i,:,:]/mu_val[i] \n"
      ],
      "execution_count": 40,
      "outputs": []
    },
    {
      "cell_type": "code",
      "metadata": {
        "colab": {
          "base_uri": "https://localhost:8080/"
        },
        "id": "vC2zuN3GdtQf",
        "outputId": "df027a66-6a06-4b29-d690-fd8e527ddf58"
      },
      "source": [
        "t_train[5:20]"
      ],
      "execution_count": 41,
      "outputs": [
        {
          "output_type": "execute_result",
          "data": {
            "text/plain": [
              "array([[20.765,  1.   ],\n",
              "       [ 0.   ,  0.   ],\n",
              "       [ 0.   ,  0.   ],\n",
              "       [20.346,  1.   ],\n",
              "       [ 0.   ,  0.   ],\n",
              "       [ 0.   ,  0.   ],\n",
              "       [ 0.   ,  0.   ],\n",
              "       [ 0.   ,  0.   ],\n",
              "       [20.738,  1.   ],\n",
              "       [ 0.   ,  0.   ],\n",
              "       [ 0.   ,  0.   ],\n",
              "       [20.794,  1.   ],\n",
              "       [20.487,  1.   ],\n",
              "       [ 0.   ,  0.   ],\n",
              "       [21.815,  1.   ]])"
            ]
          },
          "metadata": {},
          "execution_count": 41
        }
      ]
    },
    {
      "cell_type": "code",
      "metadata": {
        "colab": {
          "base_uri": "https://localhost:8080/",
          "height": 297
        },
        "id": "rHiJCiHEtczI",
        "outputId": "5f0a6da0-67bf-4d3f-982d-57cc88800735"
      },
      "source": [
        "randomized_inds_train = np.random.permutation(len(x_train))\n",
        "\n",
        "fig = plt.figure()\n",
        "\n",
        "\n",
        "for i,j in zip(randomized_inds_train[0:16],range(16)):\n",
        "  ax = fig.add_subplot(4, 4, j+1)\n",
        "  im = ax.plot(x_train[i])\n",
        "  plt.title('$Classify$='+str(round(t_train[i,1],0)))\n",
        "  fig.tight_layout() "
      ],
      "execution_count": 42,
      "outputs": [
        {
          "output_type": "display_data",
          "data": {
            "image/png": "[encoded data removed]",
            "text/plain": [
              "<Figure size 432x288 with 16 Axes>"
            ]
          },
          "metadata": {
            "needs_background": "light"
          }
        }
      ]
    },
    {
      "cell_type": "markdown",
      "metadata": {
        "id": "F8H-WZHXLlK4"
      },
      "source": [
        "### Model definition\n",
        "The following cell defines the model architecture. There is a Convolutional part made of multiple convolutinal layers with differnet depths and filter sizes. MaxPooling are used to reduce the sizes of tensors as we go deeper into the network. Batch Normalization and Dropout are use at the training phase to reduce over fitting."
      ]
    },
    {
      "cell_type": "code",
      "metadata": {
        "id": "XR0bf22YA3wK"
      },
      "source": [
        "def custom_loss(y_true, y_pred):\n",
        "    print(y_pred.get_shape().as_list()[1],y_true.get_shape().as_list()[1])\n",
        "    nboxes = y_pred.get_shape().as_list()[1]\n",
        "    N1 = tf.math.reduce_sum(y_true[...,nboxes:2*nboxes], axis=1) + K.epsilon()\n",
        "    #N2 = tf.math.reduce_sum((1-y_true[...,0:nboxes]), axis=1) + K.epsilon()\n",
        "    #loss_class = -tf.math.reduce_sum(y_true[...,0:nboxes]*tf.math.log(K.clip(y_pred[...,0:nboxes], K.epsilon(), 1-K.epsilon())), axis=1)/N1\n",
        "    #loss_class -= tf.math.reduce_sum((1-y_true[...,0:nboxes])*tf.math.log(K.clip(1-y_pred[...,0:nboxes], K.epsilon(), 1-K.epsilon())), axis=1)/N2\n",
        "\n",
        "    #z_true = y_true[...,nboxes:2*nboxes]\n",
        "    #z_pred = y_pred[...,nboxes:2*nboxes]\n",
        "    #dz = tf.math.subtract(z_true, z_pred)\n",
        "    #loss_z = tf.math.reduce_sum(y_true[...,0:nboxes]*tf.math.square(dz), axis=1)*0.03/N1\n",
        "\n",
        "    \n",
        "    #N1 = tf.math.reduce_sum(y_true[...,0:nboxes], axis=1) + K.epsilon()\n",
        "    #loss_NHI = tf.math.reduce_sum(t_train_classification*tf.math.square(dNHI), axis=1)/N1#*0.001\n",
        "    \n",
        "    NHI_true = y_true[...,0:nboxes]\n",
        "    NHI_pred = y_pred[...,0:nboxes]\n",
        "    dNHI = tf.math.subtract(NHI_true, NHI_pred)\n",
        "    loss_NHI = tf.math.reduce_sum(y_true[...,nboxes:2*nboxes]*tf.math.square(dNHI), axis=1)/N1\n",
        "\n",
        "    '''\n",
        "    nboxes = y_pred.get_shape().as_list()[1]\n",
        "    N1 = np.sum(t_train_classification)\n",
        "    NHI_true = y_true[...,0:nboxes]\n",
        "    NHI_pred = y_pred[...,0:nboxes]\n",
        "    dNHI = tf.math.subtract(NHI_true, NHI_pred)\n",
        "    loss_NHI = tf.math.reduce_sum(t_train_classification*tf.math.square(dNHI), axis=1)*0.001/N1#\n",
        "    '''\n",
        "    return loss_NHI\n",
        "\n"
      ],
      "execution_count": 43,
      "outputs": []
    },
    {
      "cell_type": "code",
      "metadata": {
        "id": "Qq8oEFnMJ4Ld"
      },
      "source": [
        "# CNN Ting\n",
        "def CNN_Nair(img_channels, img_rows, img_cols):\n",
        "    dropoutpar=0.5\n",
        "  \n",
        "    inputs = layers.Input(shape=(400, 1))\n",
        "    conv1 = layers.Conv1D(100, 32,strides = 3, activation='relu', padding=\"same\")(inputs)\n",
        "    #pool1 = layers.MaxPooling1D(7,strides = 4)(conv1)\n",
        "    conv2 = layers.Conv1D(96, 16,strides = 1, activation='relu', padding=\"same\")(conv1)\n",
        "    #pool2 = layers.MaxPooling1D(6,strides = 4)(conv2)\n",
        "    conv3= layers.Conv1D(96, 16,strides = 1, activation='relu', padding=\"same\")(conv2)\n",
        "    pool3 = layers.MaxPooling1D(6,strides = 4)(conv3)\n",
        "    flatten1 = layers.Flatten()(pool3) \n",
        "    dense1 = layers.Dense(64,activation='relu')(flatten1)\n",
        "    dense2 = layers.Dense(32,activation='relu')(dense1)\n",
        "    dense3 = layers.Dense(1,activation='relu')(dense2)\n",
        "    #dense3 = layers.Dense(2,activation='softmax')(dense2)\n",
        "    #dense3 = layers.Dense(2,activation='sigmoid')(dense2)\n",
        "    model = models.Model(inputs, dense3)\n",
        "\n",
        "    #model=Sequential()\n",
        "    #model.add(Conv2D(64, 64,1, activation='relu',padding='same',input_shape=(img_rows, img_cols, img_channels)))\n",
        "    #model.add(Conv2D(64, 64,12, activation='relu',padding='same',input_shape=(img_rows, img_cols, img_channels)))\n",
        "    #model.add(BatchNormalization())  ## batch normalization layer\n",
        "    ## ADD LAYERS / CONVOLUTIONS HERE\n",
        "    ## FROM HERE IS THE FULLY CONNECTED PART OF THE MODEL. YOU CAN ALSO CHANGE THIS\n",
        "    #model.add(Flatten())\n",
        "    #model.add(Dense(nb_dense, activation='relu'))\n",
        "    #model.add(Dropout(dropoutpar)) \n",
        "\n",
        "    ## OUTPUT LAYER -- DO NOT CHANGE\n",
        "    #model.add(Dense(3, kernel_initializer='uniform', activation='sigmoid'))  \n",
        "\n",
        "    # COMPILES THE MODEL. WE USE CROSS-ENTROPY LOSS. YOU CAN CHANGE THE OPTIMIZER\n",
        "    # IF NEEDED\n",
        "    print(\"Compilation...\")\n",
        "    #model.compile(loss='binary_crossentropy',optimizer='SGD',metrics=['accuracy'])\n",
        "    #model.compile(loss='categorical_crossentropy',optimizer='SGD',metrics=['accuracy'])\n",
        "    model.compile(loss=custom_loss,optimizer='SGD',metrics=['accuracy'])\n",
        "\n",
        "    #adam = keras.optimizers.Adam(learning_rate=0.01)\n",
        "    #model.compile(optimizer='adam', loss=custom_loss, metrics=[])\n",
        "\n",
        "    print(\"... done!\")\n",
        "    print(\"Model Summary\")\n",
        "    print(\"===================\")\n",
        "    model.summary()\n",
        "    return model"
      ],
      "execution_count": 44,
      "outputs": []
    },
    {
      "cell_type": "code",
      "metadata": {
        "id": "8FO8dzy8DdQY"
      },
      "source": [
        "RESET=True\n",
        "if RESET:\n",
        "  os.system(\"rm -r \"+pathout+model_name)"
      ],
      "execution_count": null,
      "outputs": []
    },
    {
      "cell_type": "markdown",
      "metadata": {
        "id": "NjEmToBYRaJJ"
      },
      "source": [
        "Main code for training the CNN model defined previously. All outputs are stored in pathout. Change if you want to keep different models. BY default the dataset is augmented to reduce overfitting. You can turn it off be setting data_augmentation to False."
      ]
    },
    {
      "cell_type": "code",
      "metadata": {
        "colab": {
          "base_uri": "https://localhost:8080/"
        },
        "id": "-gh5bQhF98Gq",
        "outputId": "e70c6033-1010-436d-a27b-b78dabcdc08c"
      },
      "source": [
        "# train params - hardocded for simplicity - you can change them\n",
        "pathout='/content/drive/My Drive/ML_DLA/model' #output folder to store the results\n",
        "model_name = '/cnn_cross_sn7'  #name of the final model which is saved in pathout\n",
        "\n",
        "LOAD_MODEL=False\n",
        "\n",
        "batch_size = 100\n",
        "nb_epoch = 5  #number of iterations for training - Can be changed\n",
        "data_augmentation = False # if set to True the data will be augmented at every iteration\n",
        "# input image dimensions\n",
        "img_rows, img_cols = x_train.shape[1:3]\n",
        "img_channels = 1\n",
        "\n",
        "#Avoid more iterations once convergence\n",
        "patience_par=10\n",
        "earlystopping = EarlyStopping(monitor='val_loss',patience = patience_par,verbose=0,mode='auto' )\n",
        "modelcheckpoint = ModelCheckpoint(pathout+model_name+\"_best.hd5\",monitor='val_loss',verbose=0,save_best_only=True)\n",
        "tensorboard = TensorBoard(log_dir=pathout)\n",
        "\n",
        "#build model\n",
        "#cnn=CNN_Nair(img_channels, img_rows, img_cols)\n",
        "cnn=CNN_Nair(img_channels, img_rows, img_cols)\n",
        "if LOAD_MODEL:\n",
        "  cnn.load_weights(pathout+model_name+'.hd5')\n",
        "\n",
        "\n",
        "if not data_augmentation:\n",
        "  print('Not using data augmentation.')\n",
        "  history = cnn.fit(x_train, t_train,\n",
        "                            batch_size=batch_size,\n",
        "                            epochs=nb_epoch,\n",
        "                            validation_data=(x_val, t_val),\n",
        "                            shuffle=True,\n",
        "                            callbacks=[earlystopping, modelcheckpoint,tensorboard])\n",
        "else:\n",
        "  print('Using real-time data augmentation.')\n",
        "\n",
        "  # this will do preprocessing and realtime data augmentation. FEEL FREE TO\n",
        "  # CHANGE THE PARAMETERS AND SEE THE EFFECTS\n",
        "  datagen = ImageDataGenerator(\n",
        "            featurewise_center=False, \n",
        "            samplewise_center=False, \n",
        "            featurewise_std_normalization=False, \n",
        "            samplewise_std_normalization=False,\n",
        "            zca_whitening=False, \n",
        "            rotation_range=0,\n",
        "            width_shift_range=0.1,  \n",
        "            height_shift_range=0.1, \n",
        "            horizontal_flip=True,\n",
        "            vertical_flip=True,\n",
        "            zoom_range=False)  \n",
        "\n",
        "        \n",
        "  datagen.fit(x_train)\n",
        "        \n",
        "  history = cnn.fit_generator(\n",
        "                    datagen.flow(x_train, t_train, batch_size=batch_size),\n",
        "                    steps_per_epoch=batch_size,\n",
        "                    epochs=nb_epoch,\n",
        "                    validation_data=(x_val, t_val),\n",
        "                    callbacks=[modelcheckpoint,tensorboard]#[ earlystopping, modelcheckpoint,tensorboard]\n",
        "                )\n",
        "\n",
        "\n",
        "\n",
        "print(\"Saving model...\")\n",
        "cnn.save_weights(pathout+model_name+\".hd5\",overwrite=True)\n",
        "    \n",
        "        \n"
      ],
      "execution_count": 45,
      "outputs": [
        {
          "output_type": "stream",
          "name": "stdout",
          "text": [
            "Compilation...\n",
            "... done!\n",
            "Model Summary\n",
            "===================\n",
            "Model: \"model_2\"\n",
            "_________________________________________________________________\n",
            "Layer (type)                 Output Shape              Param #   \n",
            "=================================================================\n",
            "input_3 (InputLayer)         [(None, 400, 1)]          0         \n",
            "_________________________________________________________________\n",
            "conv1d_6 (Conv1D)            (None, 134, 100)          3300      \n",
            "_________________________________________________________________\n",
            "conv1d_7 (Conv1D)            (None, 134, 96)           153696    \n",
            "_________________________________________________________________\n",
            "conv1d_8 (Conv1D)            (None, 134, 96)           147552    \n",
            "_________________________________________________________________\n",
            "max_pooling1d_2 (MaxPooling1 (None, 33, 96)            0         \n",
            "_________________________________________________________________\n",
            "flatten_2 (Flatten)          (None, 3168)              0         \n",
            "_________________________________________________________________\n",
            "dense_6 (Dense)              (None, 64)                202816    \n",
            "_________________________________________________________________\n",
            "dense_7 (Dense)              (None, 32)                2080      \n",
            "_________________________________________________________________\n",
            "dense_8 (Dense)              (None, 1)                 33        \n",
            "=================================================================\n",
            "Total params: 509,477\n",
            "Trainable params: 509,477\n",
            "Non-trainable params: 0\n",
            "_________________________________________________________________\n",
            "Not using data augmentation.\n",
            "Epoch 1/5\n",
            "1 2\n",
            "1 2\n",
            "3858/3859 [============================>.] - ETA: 0s - loss: 215.3943 - accuracy: 0.49981 2\n",
            "3859/3859 [==============================] - 40s 10ms/step - loss: 215.3924 - accuracy: 0.4998 - val_loss: 214.8558 - val_accuracy: 0.4990\n",
            "INFO:tensorflow:Assets written to: /content/drive/My Drive/ML_DLA/model/cnn_cross_sn7_best.hd5/assets\n",
            "Epoch 2/5\n",
            "3859/3859 [==============================] - 39s 10ms/step - loss: 214.4086 - accuracy: 0.5000 - val_loss: 214.8558 - val_accuracy: 0.4990\n",
            "Epoch 3/5\n",
            "3859/3859 [==============================] - 39s 10ms/step - loss: 214.4084 - accuracy: 0.5000 - val_loss: 214.8558 - val_accuracy: 0.4990\n",
            "Epoch 4/5\n",
            "3859/3859 [==============================] - 39s 10ms/step - loss: 214.4091 - accuracy: 0.5000 - val_loss: 214.8558 - val_accuracy: 0.4990\n",
            "Epoch 5/5\n",
            "3859/3859 [==============================] - 40s 10ms/step - loss: 214.4090 - accuracy: 0.5000 - val_loss: 214.8558 - val_accuracy: 0.4990\n",
            "Saving model...\n"
          ]
        }
      ]
    },
    {
      "cell_type": "code",
      "metadata": {
        "colab": {
          "base_uri": "https://localhost:8080/",
          "height": 296
        },
        "id": "CfRPjByfWDZ4",
        "outputId": "a576e33b-e3a0-4f92-e456-97534ef5c89b"
      },
      "source": [
        "plot(history.history['loss'])\n",
        "plot(history.history['val_loss'],color='red')\n",
        "plt.xlabel('Epochs')\n",
        "plt.ylabel('Loss')"
      ],
      "execution_count": null,
      "outputs": [
        {
          "output_type": "execute_result",
          "data": {
            "text/plain": [
              "Text(0, 0.5, 'Loss')"
            ]
          },
          "metadata": {},
          "execution_count": 15
        },
        {
          "output_type": "display_data",
          "data": {
            "image/png": "[encoded data removed]",
            "text/plain": [
              "<Figure size 432x288 with 1 Axes>"
            ]
          },
          "metadata": {
            "needs_background": "light"
          }
        }
      ]
    },
    {
      "cell_type": "markdown",
      "metadata": {
        "id": "E6jXNmKDGcyo"
      },
      "source": [
        "## Predictions and comparisons of different approaches\n",
        "The following cells use the trained models (RF,ANN and CNN) to predict the morphological class of the test dataset and compare the performance of the different algorithms. "
      ]
    },
    {
      "cell_type": "code",
      "metadata": {
        "id": "MFpihOh0FuN2",
        "colab": {
          "base_uri": "https://localhost:8080/"
        },
        "outputId": "ee77afe8-e0e2-48eb-c9a5-dace0ee4f6f1"
      },
      "source": [
        "print(\"Predicting...\")\n",
        "print(\"====================\")\n",
        "LOAD_MODEL=False\n",
        "if LOAD_MODEL:\n",
        "  cnn = tf.keras.models.load_model(pathout+model_name+\".hd5\")\n",
        "\n",
        "Y_pred_DL = cnn.predict(x_test)\n"
      ],
      "execution_count": 46,
      "outputs": [
        {
          "output_type": "stream",
          "name": "stdout",
          "text": [
            "Predicting...\n",
            "====================\n"
          ]
        }
      ]
    },
    {
      "cell_type": "markdown",
      "metadata": {
        "id": "mXKSAhBqSX2g"
      },
      "source": [
        "We now compute the global accuracy as well as ROC and P-R curves. If you are not familiar with these curves please see the lecture slides or click [here](https://en.wikipedia.org/wiki/Receiver_operating_characteristic) "
      ]
    },
    {
      "cell_type": "code",
      "metadata": {
        "colab": {
          "base_uri": "https://localhost:8080/"
        },
        "id": "vP-TROFlF5rw",
        "outputId": "542597ef-5ddb-465d-c9dc-de378a0711f6"
      },
      "source": [
        "Y_pred_DL.shape"
      ],
      "execution_count": null,
      "outputs": [
        {
          "output_type": "execute_result",
          "data": {
            "text/plain": [
              "(128634, 3)"
            ]
          },
          "metadata": {},
          "execution_count": 61
        }
      ]
    },
    {
      "cell_type": "code",
      "metadata": {
        "colab": {
          "base_uri": "https://localhost:8080/"
        },
        "id": "VaDaQx50GAoI",
        "outputId": "fb67835a-c740-4d82-9d2e-8cc323427453"
      },
      "source": [
        "t_test.shape"
      ],
      "execution_count": 21,
      "outputs": [
        {
          "output_type": "execute_result",
          "data": {
            "text/plain": [
              "(2,)"
            ]
          },
          "metadata": {},
          "execution_count": 21
        }
      ]
    },
    {
      "cell_type": "code",
      "metadata": {
        "colab": {
          "base_uri": "https://localhost:8080/"
        },
        "id": "TE_6g4igtQ5B",
        "outputId": "195deeb3-8047-46db-a447-1067b12db514"
      },
      "source": [
        "Y_pred_DL[0:30]"
      ],
      "execution_count": 48,
      "outputs": [
        {
          "output_type": "execute_result",
          "data": {
            "text/plain": [
              "array([[0.],\n",
              "       [0.],\n",
              "       [0.],\n",
              "       [0.],\n",
              "       [0.],\n",
              "       [0.],\n",
              "       [0.],\n",
              "       [0.],\n",
              "       [0.],\n",
              "       [0.],\n",
              "       [0.],\n",
              "       [0.],\n",
              "       [0.],\n",
              "       [0.],\n",
              "       [0.],\n",
              "       [0.],\n",
              "       [0.],\n",
              "       [0.],\n",
              "       [0.],\n",
              "       [0.],\n",
              "       [0.],\n",
              "       [0.],\n",
              "       [0.],\n",
              "       [0.],\n",
              "       [0.],\n",
              "       [0.],\n",
              "       [0.],\n",
              "       [0.],\n",
              "       [0.],\n",
              "       [0.]], dtype=float32)"
            ]
          },
          "metadata": {},
          "execution_count": 48
        }
      ]
    },
    {
      "cell_type": "markdown",
      "metadata": {
        "id": "sEml6NaOT_Sj"
      },
      "source": [
        "### Bad classifications of CNNs"
      ]
    },
    {
      "cell_type": "code",
      "metadata": {
        "id": "hjiZtz61H_cY",
        "colab": {
          "base_uri": "https://localhost:8080/",
          "height": 441
        },
        "outputId": "096618f5-05ef-4e8e-aa62-9cc1d45a7d8d"
      },
      "source": [
        "fig = plt.figure(figsize=(12, 6))\n",
        "for i,j in zip(range(4),range(4)):\n",
        "  ax = fig.add_subplot(2, 2, j+1)\n",
        "  im = ax.plot(x_test[i,:,:])\n",
        "  plt.title(' $Class-ori$= '+str(round(t_test[i,0],1))+' $Class-pred$= '+str(round(Y_pred_DL[i,0],1))+' \\n$z-ori$= '+str(round(t_test[i,1],3))+' $z-pred$= '+str(round(Y_pred_DL[i,1],3))+' \\n$NHI-ori$= '+str(round(t_test[i,2],3))+' $NHI-pred$= '+str(round(Y_pred_DL[i,2],3)))\n",
        "  fig.tight_layout()\n",
        "\n"
      ],
      "execution_count": null,
      "outputs": [
        {
          "output_type": "display_data",
          "data": {
            "image/png": "[encoded data removed]",
            "text/plain": [
              "<Figure size 864x432 with 4 Axes>"
            ]
          },
          "metadata": {
            "needs_background": "light"
          }
        }
      ]
    },
    {
      "cell_type": "code",
      "metadata": {
        "id": "no-pEJEJc1w2"
      },
      "source": [
        ""
      ],
      "execution_count": null,
      "outputs": []
    }
  ]
}