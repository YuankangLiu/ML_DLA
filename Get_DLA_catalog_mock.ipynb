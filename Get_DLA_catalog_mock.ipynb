{
  "nbformat": 4,
  "nbformat_minor": 0,
  "metadata": {
    "colab": {
      "name": "Get_DLA_catalog_mock.ipynb",
      "provenance": [],
      "machine_shape": "hm",
      "authorship_tag": "ABX9TyMluhHQYxJ4/X3v33d94KWB",
      "include_colab_link": true
    },
    "kernelspec": {
      "name": "python3",
      "display_name": "Python 3"
    },
    "language_info": {
      "name": "python"
    }
  },
  "cells": [
    {
      "cell_type": "markdown",
      "metadata": {
        "id": "view-in-github",
        "colab_type": "text"
      },
      "source": [
        "<a href=\"https://colab.research.google.com/github/moonlovist/ML_DLA/blob/main/Get_DLA_catalog_mock.ipynb\" target=\"_parent\"><img src=\"https://colab.research.google.com/assets/colab-badge.svg\" alt=\"Open In Colab\"/></a>"
      ]
    },
    {
      "cell_type": "code",
      "metadata": {
        "colab": {
          "base_uri": "https://localhost:8080/"
        },
        "id": "GehjS4Myrr9d",
        "outputId": "2206858d-eac7-4f2f-b351-9c2b174c168c"
      },
      "source": [
        "from google.colab import drive\n",
        "drive.mount('/content/drive')"
      ],
      "execution_count": null,
      "outputs": [
        {
          "output_type": "stream",
          "name": "stdout",
          "text": [
            "Drive already mounted at /content/drive; to attempt to forcibly remount, call drive.mount(\"/content/drive\", force_remount=True).\n"
          ]
        }
      ]
    },
    {
      "cell_type": "code",
      "metadata": {
        "colab": {
          "base_uri": "https://localhost:8080/"
        },
        "id": "cGxwV3-3xjae",
        "outputId": "b1246630-11ab-4026-8ded-e2800cae555f"
      },
      "source": [
        "!pip install fitsio"
      ],
      "execution_count": null,
      "outputs": [
        {
          "output_type": "stream",
          "name": "stdout",
          "text": [
            "Requirement already satisfied: fitsio in /usr/local/lib/python3.7/dist-packages (1.1.5)\n",
            "Requirement already satisfied: numpy in /usr/local/lib/python3.7/dist-packages (from fitsio) (1.19.5)\n"
          ]
        }
      ]
    },
    {
      "cell_type": "code",
      "metadata": {
        "id": "iq3iL2bdCNW_"
      },
      "source": [
        "!tar -xvf '/content/drive/My Drive/ML_DLA/files.tar.gz'"
      ],
      "execution_count": null,
      "outputs": []
    },
    {
      "cell_type": "code",
      "metadata": {
        "id": "87gFQcbqGsKf"
      },
      "source": [
        "!cp -r '/content/files' '/content/drive/My Drive/ML_DLA/'"
      ],
      "execution_count": null,
      "outputs": []
    },
    {
      "cell_type": "code",
      "metadata": {
        "colab": {
          "base_uri": "https://localhost:8080/"
        },
        "id": "gYv0wgX2rs-m",
        "outputId": "efc24a66-e2cf-4656-e3d6-75907da48ecf"
      },
      "source": [
        "from fitsio import FITS\n",
        "import fitsio\n",
        "import matplotlib.pyplot as plt\n",
        "from astropy.io import fits\n",
        "import astropy.io.fits as pyfits\n",
        "import numpy as np\n",
        "import os\n",
        "from matplotlib.pyplot import rcParams\n",
        "import matplotlib._color_data as mcd\n",
        "import math\n",
        "rcParams['figure.figsize'] = 10, 5\n",
        "rcParams['lines.linewidth'] = 2\n",
        "rcParams['axes.labelsize'] = 15\n",
        "rcParams['legend.fontsize'] = 12\n",
        "from astropy.table import Table\n",
        "import h5py\n",
        "import sys\n",
        "\n",
        "file_DLA = fitsio.FITS('/content/drive/My Drive/ML_DLA/zcat_desi_drq_DLA_sup_203.fits')\n",
        "file_quasar = fitsio.FITS('/content/drive/My Drive/ML_DLA/zcat_desi_drq.fits')\n",
        "\n",
        "Targetid_quasar = file_quasar[1]['THING_ID'][:].tolist()\n",
        "Targetid_DLA = file_DLA[1]['THING_ID'][:].tolist()\n",
        "Z_quasar = file_quasar[1]['Z'][:].tolist()\n",
        "Z_DLA = file_DLA[1]['Z'][:].tolist()\n",
        "NHI_DLA = file_DLA[1]['NHI'][:].tolist()\n",
        "Targetid_list = list(set(Targetid_quasar).intersection(set(Targetid_DLA)))\n",
        "\n",
        "\n",
        "data = np.load('/content/drive/My Drive/ML_DLA/spectra.npy',allow_pickle=True).tolist()\n",
        "print(data.keys())\n",
        "Targetid_all = data['Targetid']\n",
        "spectra_all = data['spectra']\n",
        "noise_all = data['noise_IVAR']\n",
        "Z_all = data['z']\n",
        "SN_all = data['SN']\n",
        "B_wavelength = data['B_wavalength']\n",
        "\n",
        "SN_range = (SN_all<3)#&(SN_all>3)\n",
        "redshift_range = 2<Z_all\n",
        "spectra_all = spectra_all[redshift_range&SN_range]\n",
        "Targetid_all = Targetid_all[redshift_range&SN_range]\n",
        "Z_all = Z_all[redshift_range&SN_range]\n",
        "Targetid_list = list(set(Targetid_all).intersection(set(Targetid_DLA)))\n",
        "\n",
        "total = len(Targetid_list)\n",
        "spectra_dla = []\n",
        "noise_dla = []\n",
        "Z_quasar = []\n",
        "Z_dla = []\n",
        "NHI_dla = []\n",
        "SN_dla = []\n",
        "class_dla = []\n",
        "tileid_dla = []\n",
        "for index,id_quasar in enumerate(Targetid_list):\n",
        "    position_quasar = Targetid_all.tolist().index(id_quasar)\n",
        "    position_DLA = Targetid_DLA.index(id_quasar)\n",
        "    Z_quasar = Z_all[position_quasar]\n",
        "    B_wave = B_wavelength[(B_wavelength<1346*(Z_all[index]+1))&(B_wavelength>900*(Z_all[index]+1))]\n",
        "    B_wave_position = B_wavelength.tolist().index(B_wave[0])\n",
        "    for num in range(B_wave.shape[0]-399):\n",
        "        B_wave_dla = B_wave[num:400+num]\n",
        "        spectra_dla.append(spectra_all[position_quasar][B_wave_position+num:B_wave_position+400+num])\n",
        "        Z_dla.append(Z_DLA[position_DLA])\n",
        "        NHI_dla.append(NHI_DLA[position_DLA])\n",
        "        tileid_dla.append(Targetid_DLA[position_DLA])\n",
        "        center_dlla = 1210*(Z_DLA[position_DLA]+1)\n",
        "        number1 = B_wave_dla[B_wave_dla>center_dlla].shape[0]\n",
        "        number2 = B_wave_dla[B_wave_dla<center_dlla].shape[0]\n",
        "        if (number1 > 60)&(number2 > 60):\n",
        "            class_dla.append(1)\n",
        "        else:\n",
        "            class_dla.append(0)\n",
        "    print(\"\\r\", end=\"\")\n",
        "    print(\"Download progress: {}%: \".format(round(index*100/total,2)), \"▋\" * ((int(index*100/total))), end=\"\")\n",
        "    sys.stdout.flush()\n",
        "    \n",
        "NHI_range = (np.array(NHI_dla) > 22)#&(np.array(NHI_dla) > 20.3)\n",
        "    \n",
        "hduspectra = fits.HDUList([fits.PrimaryHDU(np.array(spectra_dla)[NHI_range]),fits.BinTableHDU.from_columns([fits.Column(name='tileid_dla', array=np.array(tileid_dla)[NHI_range], format='K')])])\n",
        "hduid = fits.HDUList([fits.PrimaryHDU(np.array(class_dla)[NHI_range]),fits.BinTableHDU.from_columns([fits.Column(name='tileid_dla', array=np.array(tileid_dla)[NHI_range], format='K')])])\n",
        "hduredshift = fits.HDUList([fits.PrimaryHDU(np.array(Z_dla)[NHI_range]),fits.BinTableHDU.from_columns([fits.Column(name='tileid_dla', array=np.array(tileid_dla)[NHI_range], format='K')])])\n",
        "hduNHI = fits.HDUList([fits.PrimaryHDU(np.array(NHI_dla)[NHI_range]),fits.BinTableHDU.from_columns([fits.Column(name='tileid_dla', array=np.array(tileid_dla)[NHI_range], format='K')])])\n",
        "hduspectra.writeto('/content/drive/My Drive/ML_DLA/files_withid/Classification_catalog_SN_inf_3_NHI_22_mock_4.7.01.fits.gz')\n",
        "hduid.writeto('/content/drive/My Drive/ML_DLA/files_withid/Classification_id_SN_inf_3_NHI_22_mock_4.7.01.fits.gz')\n",
        "hduredshift.writeto('/content/drive/My Drive/ML_DLA/files_withid/Classification_z_SN_inf_3_NHI_22_mock_4.7.01.fits.gz')\n",
        "hduNHI.writeto('/content/drive/My Drive/ML_DLA/files_withid/Classification_NHI_SN_inf_3_NHI_22_mock_4.7.01.fits.gz')\n",
        "\n"
      ],
      "execution_count": null,
      "outputs": [
        {
          "output_type": "stream",
          "name": "stdout",
          "text": [
            "dict_keys(['Targetid', 'spectra', 'noise_IVAR', 'B_wavalength', 'z', 'SN'])\n",
            "Download progress: 99.99%:  ▋▋▋▋▋▋▋▋▋▋▋▋▋▋▋▋▋▋▋▋▋▋▋▋▋▋▋▋▋▋▋▋▋▋▋▋▋▋▋▋▋▋▋▋▋▋▋▋▋▋▋▋▋▋▋▋▋▋▋▋▋▋▋▋▋▋▋▋▋▋▋▋▋▋▋▋▋▋▋▋▋▋▋▋▋▋▋▋▋▋▋▋▋▋▋▋▋▋▋"
          ]
        }
      ]
    },
    {
      "cell_type": "code",
      "metadata": {
        "id": "d8uZsygJrs3T"
      },
      "source": [
        ""
      ],
      "execution_count": null,
      "outputs": []
    },
    {
      "cell_type": "code",
      "metadata": {
        "id": "hTv_JSO1rs0t"
      },
      "source": [
        ""
      ],
      "execution_count": null,
      "outputs": []
    },
    {
      "cell_type": "code",
      "metadata": {
        "id": "rjYxsm_DrsyD"
      },
      "source": [
        ""
      ],
      "execution_count": null,
      "outputs": []
    },
    {
      "cell_type": "code",
      "metadata": {
        "id": "Yr9mwSQersvk"
      },
      "source": [
        ""
      ],
      "execution_count": null,
      "outputs": []
    },
    {
      "cell_type": "code",
      "metadata": {
        "id": "aPIsHWwirstC"
      },
      "source": [
        ""
      ],
      "execution_count": null,
      "outputs": []
    },
    {
      "cell_type": "code",
      "metadata": {
        "id": "Un2TJ1SGrslB"
      },
      "source": [
        ""
      ],
      "execution_count": null,
      "outputs": []
    },
    {
      "cell_type": "code",
      "metadata": {
        "id": "PlPw1A30rsiG"
      },
      "source": [
        ""
      ],
      "execution_count": null,
      "outputs": []
    }
  ]
}