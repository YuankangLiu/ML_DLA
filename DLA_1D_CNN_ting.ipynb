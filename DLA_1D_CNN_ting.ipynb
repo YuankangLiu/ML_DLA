{
  "nbformat": 4,
  "nbformat_minor": 0,
  "metadata": {
    "accelerator": "GPU",
    "colab": {
      "name": "DLA_CNN_ting.ipynb",
      "provenance": [],
      "collapsed_sections": [],
      "toc_visible": true,
      "include_colab_link": true
    },
    "kernelspec": {
      "display_name": "Python 3",
      "language": "python",
      "name": "python3"
    },
    "language_info": {
      "codemirror_mode": {
        "name": "ipython",
        "version": 3
      },
      "file_extension": ".py",
      "mimetype": "text/x-python",
      "name": "python",
      "nbconvert_exporter": "python",
      "pygments_lexer": "ipython3",
      "version": "3.8.5"
    }
  },
  "cells": [
    {
      "cell_type": "markdown",
      "metadata": {
        "id": "view-in-github",
        "colab_type": "text"
      },
      "source": [
        "<a href=\"https://colab.research.google.com/github/moonlovist/ML_DLA/blob/main/DLA_1D_CNN_ting.ipynb\" target=\"_parent\"><img src=\"https://colab.research.google.com/assets/colab-badge.svg\" alt=\"Open In Colab\"/></a>"
      ]
    },
    {
      "cell_type": "markdown",
      "metadata": {
        "id": "4jatIhJ9KJQV"
      },
      "source": [
        "#Galaxy Morphology with CNNs\n",
        "\n",
        "The goal of this tutorial is to illustrate a very basic supervised binary classification with CNNs. The goal is to setup a ML algorithm to determine the visual morphological type of nearby galaxies from the Sloan Digital Sky Survey. The first deep learning papers in Astronomy addressed this problem at low and high redshift (Dielemann+15, Huertas-Company+15).\n",
        "\n",
        "\n",
        "We use a Convolutional Neural Network (deep learning) to learn the features directly from the images with no catalog information. The CNN  model is implemented here with Keras and a TensorFlow backend.  We use as training set, the visually classified sample of ~14,000 galaxies by Nair&Abraham. For illustration purposes, we use jpeg RGB images as input. However the same methodology can be applied to fits.\n",
        "\n",
        "---\n",
        "\n",
        "\n",
        "\n",
        "#### Before we start, make sure to open this Colab notebook in \"PlayGround Mode\" (top left) and to change the Runtime type to GPU by navigating to the toolbar and clicking Runtime -> Change runtime type and then changing Hardware accelerator to GPU\n",
        "\n",
        "---"
      ]
    },
    {
      "cell_type": "code",
      "metadata": {
        "colab": {
          "base_uri": "https://localhost:8080/"
        },
        "id": "Hpv-XO8Sxgvi",
        "outputId": "d32664c5-e433-4663-ce87-359c889a8ac7"
      },
      "source": [
        "import numpy as np\n",
        "from astropy.io import fits\n",
        "from astropy.table import Table\n",
        "import os\n",
        "from sklearn import preprocessing\n",
        "\n",
        "from keras.preprocessing.image import ImageDataGenerator\n",
        "from keras.models import Sequential\n",
        "from keras.layers.core import Dense, Dropout, Activation, Flatten\n",
        "from keras.layers import  BatchNormalization\n",
        "from keras.layers.convolutional import Conv2D\n",
        "from keras.layers import MaxPool2D\n",
        "from sklearn.model_selection import train_test_split\n",
        "from tensorflow.keras import layers, models\n",
        "\n",
        "from keras.callbacks import EarlyStopping\n",
        "from keras.callbacks import ModelCheckpoint\n",
        "from keras.callbacks import TensorBoard\n",
        "\n",
        "from sklearn.metrics import roc_curve, precision_recall_curve, accuracy_score,auc\n",
        "\n",
        "%pylab inline"
      ],
      "execution_count": 1,
      "outputs": [
        {
          "output_type": "stream",
          "text": [
            "Populating the interactive namespace from numpy and matplotlib\n"
          ],
          "name": "stdout"
        }
      ]
    },
    {
      "cell_type": "markdown",
      "metadata": {
        "id": "5aDPpIjr2WUv"
      },
      "source": [
        ""
      ]
    },
    {
      "cell_type": "code",
      "metadata": {
        "colab": {
          "base_uri": "https://localhost:8080/"
        },
        "id": "8Io82GXlCNdF",
        "outputId": "434d469e-2d0b-4ec4-dfd1-04ec9d533de5"
      },
      "source": [
        "from google.colab import drive\n",
        "drive.mount('/content/drive')"
      ],
      "execution_count": 2,
      "outputs": [
        {
          "output_type": "stream",
          "text": [
            "Mounted at /content/drive\n"
          ],
          "name": "stdout"
        }
      ]
    },
    {
      "cell_type": "markdown",
      "metadata": {
        "id": "hTJio12w2SLw"
      },
      "source": [
        ""
      ]
    },
    {
      "cell_type": "markdown",
      "metadata": {
        "id": "-A5hM83EeiH5"
      },
      "source": [
        "## Deep Learning (CNN)\n",
        "This section illustrates how to use a Convolutional Neural Network to estimate the visual morphology. The input of the network are now the images themselves without parameters. The CNN then automatically extracts the features. This is the main difference between classical and deep learning."
      ]
    },
    {
      "cell_type": "markdown",
      "metadata": {
        "id": "OErN1Sb5enXV"
      },
      "source": [
        "### Data Download and Preparation"
      ]
    },
    {
      "cell_type": "code",
      "metadata": {
        "id": "uhIqCwEg9UUd"
      },
      "source": [
        "#Load data\n",
        "pathinData=\"/content/drive/My Drive/ML_DLA\"\n",
        "\n",
        "#images\n",
        "X = np.load(pathinData+'/Classification_catalog_SN_6_mock_4.7.01.npy')\n",
        "X = X[:,0:2000,:,:]\n",
        "X = np.squeeze(X,axis=3)\n",
        "#morphological class\n",
        "Y1 = np.load(pathinData+'/Classification_id_SN_6_mock_4.7.01.npy') \n",
        "Y2 = np.load(pathinData+'/Classification_z_SN_6_mock_4.7.01.npy') \n",
        "#Y = np.transpose(np.vstack((Y1,Y2)))\n",
        "Y = Y1"
      ],
      "execution_count": 38,
      "outputs": []
    },
    {
      "cell_type": "code",
      "metadata": {
        "colab": {
          "base_uri": "https://localhost:8080/"
        },
        "id": "Ec2HPnKsprAJ",
        "outputId": "89e14b76-618f-407f-cf02-d49cda0ee369"
      },
      "source": [
        "X.shape"
      ],
      "execution_count": 35,
      "outputs": [
        {
          "output_type": "execute_result",
          "data": {
            "text/plain": [
              "(10447, 2000, 1)"
            ]
          },
          "metadata": {},
          "execution_count": 35
        }
      ]
    },
    {
      "cell_type": "code",
      "metadata": {
        "colab": {
          "base_uri": "https://localhost:8080/"
        },
        "id": "fWwBHl2inHvl",
        "outputId": "8c4d97f2-e8e3-4af8-ac25-96443599cce8"
      },
      "source": [
        "Y[Y==1].shape"
      ],
      "execution_count": 7,
      "outputs": [
        {
          "output_type": "execute_result",
          "data": {
            "text/plain": [
              "(1679,)"
            ]
          },
          "metadata": {},
          "execution_count": 7
        }
      ]
    },
    {
      "cell_type": "markdown",
      "metadata": {
        "id": "jSGeDuRbsY3L"
      },
      "source": [
        ""
      ]
    },
    {
      "cell_type": "code",
      "metadata": {
        "id": "cE1yYHCYxeX6"
      },
      "source": [
        "#X = np.vstack((X[Y==0][0:27343,:,:,:],X[Y==1]))\n",
        "#Y = np.hstack((Y[Y==0][0:27343],Y[Y==1]))\n",
        "X = np.vstack((X[Y==0][0:1679,:,:],X[Y==1]))\n",
        "Y = np.hstack((Y[Y==0][0:1679],Y[Y==1]))"
      ],
      "execution_count": 39,
      "outputs": []
    },
    {
      "cell_type": "code",
      "metadata": {
        "id": "_kTIzwhbsvWU"
      },
      "source": [
        "from sklearn.utils import shuffle\n",
        "X, Y = shuffle(X, Y, random_state=0)"
      ],
      "execution_count": 52,
      "outputs": []
    },
    {
      "cell_type": "code",
      "metadata": {
        "colab": {
          "base_uri": "https://localhost:8080/"
        },
        "id": "P3ARwQuqukBT",
        "outputId": "ab1763d7-4295-42e0-8adc-d4aa8a3481e4"
      },
      "source": [
        "Y"
      ],
      "execution_count": 53,
      "outputs": [
        {
          "output_type": "execute_result",
          "data": {
            "text/plain": [
              "array([0., 1., 0., ..., 1., 1., 1.])"
            ]
          },
          "metadata": {},
          "execution_count": 53
        }
      ]
    },
    {
      "cell_type": "code",
      "metadata": {
        "colab": {
          "base_uri": "https://localhost:8080/",
          "height": 282
        },
        "id": "ZvDypqYeGyFZ",
        "outputId": "cc0ff617-026e-4f53-ab8e-f000736b77e1"
      },
      "source": [
        "plt.plot(np.squeeze(np.squeeze(X[7],axis=2),axis=1))"
      ],
      "execution_count": 11,
      "outputs": [
        {
          "output_type": "execute_result",
          "data": {
            "text/plain": [
              "[<matplotlib.lines.Line2D at 0x7f41b79a1ad0>]"
            ]
          },
          "metadata": {},
          "execution_count": 11
        },
        {
          "output_type": "display_data",
          "data": {
            "image/png": "[encoded data removed]",
            "text/plain": [
              "<Figure size 432x288 with 1 Axes>"
            ]
          },
          "metadata": {
            "needs_background": "light"
          }
        }
      ]
    },
    {
      "cell_type": "code",
      "metadata": {
        "colab": {
          "base_uri": "https://localhost:8080/",
          "height": 282
        },
        "id": "ANN9bK_5ZFcG",
        "outputId": "e06c27f9-3771-470f-c68b-57ad2990a83f"
      },
      "source": [
        "plt.plot(np.squeeze(np.squeeze(X[2000],axis=2),axis=1))"
      ],
      "execution_count": 13,
      "outputs": [
        {
          "output_type": "execute_result",
          "data": {
            "text/plain": [
              "[<matplotlib.lines.Line2D at 0x7f41b6e02d90>]"
            ]
          },
          "metadata": {},
          "execution_count": 13
        },
        {
          "output_type": "display_data",
          "data": {
            "image/png": "[encoded data removed]",
            "text/plain": [
              "<Figure size 432x288 with 1 Axes>"
            ]
          },
          "metadata": {
            "needs_background": "light"
          }
        }
      ]
    },
    {
      "cell_type": "code",
      "metadata": {
        "colab": {
          "base_uri": "https://localhost:8080/"
        },
        "id": "s7JrTFYZz96c",
        "outputId": "97e05412-9388-4a93-a76b-f63649afb2e7"
      },
      "source": [
        "# Spliting in Training and Test datasets, 4/5 of galaxies for training, 1/5 for testing\n",
        "x_train = X[0:len(X)//5*3,:,:]\n",
        "x_val = X[len(X)//5*3:len(X)//5*4,:,:]   \n",
        "x_test = X[len(X)//5*4:,:,:]\n",
        "t_train = Y[0:len(Y)//5*3]\n",
        "t_val = Y[len(Y)//5*3:len(Y)//5*4]\n",
        "t_test = Y[len(Y)//5*4]\n",
        "print ('Y_train.shape= ', t_train.shape)   "
      ],
      "execution_count": 54,
      "outputs": [
        {
          "output_type": "stream",
          "text": [
            "Y_train.shape=  (2013,)\n"
          ],
          "name": "stdout"
        }
      ]
    },
    {
      "cell_type": "markdown",
      "metadata": {
        "id": "t8HpW3HM5mAP"
      },
      "source": [
        "### Pre-processing of images (Normalization)"
      ]
    },
    {
      "cell_type": "code",
      "metadata": {
        "id": "7lIPKj4l_rXQ"
      },
      "source": [
        "mu = np.amax(x_train,axis=(1,2))\n",
        "for i in range(0,mu.shape[0]):\n",
        "    x_train[i,:,:] = x_train[i,:,:]/mu[i]\n",
        "    \n",
        "mu_test = np.amax(x_test,axis=(1,2))\n",
        "for i in range(0,mu_test.shape[0]):\n",
        "    x_test[i,:,:] = x_test[i,:,:]/mu_test[i]\n",
        "\n",
        "mu_val = np.amax(x_val,axis=(1,2))\n",
        "for i in range(0,mu_val.shape[0]):\n",
        "    x_val[i,:,:] = x_val[i,:,:]/mu_val[i] \n"
      ],
      "execution_count": 42,
      "outputs": []
    },
    {
      "cell_type": "code",
      "metadata": {
        "colab": {
          "base_uri": "https://localhost:8080/",
          "height": 297
        },
        "id": "rHiJCiHEtczI",
        "outputId": "9ddeb4d2-6b81-466e-835a-fdc6bab1ddb6"
      },
      "source": [
        "randomized_inds_train = np.random.permutation(len(x_train))\n",
        "\n",
        "fig = plt.figure()\n",
        "\n",
        "\n",
        "for i,j in zip(randomized_inds_train[0:9],range(9)):\n",
        "  ax = fig.add_subplot(3, 3, j+1)\n",
        "  im = ax.plot(x_train[i])\n",
        "  plt.title('$Classify$='+str(t_train[i]))\n",
        "  fig.tight_layout() "
      ],
      "execution_count": 57,
      "outputs": [
        {
          "output_type": "display_data",
          "data": {
            "image/png": "[encoded data removed]",
            "text/plain": [
              "<Figure size 432x288 with 9 Axes>"
            ]
          },
          "metadata": {
            "needs_background": "light"
          }
        }
      ]
    },
    {
      "cell_type": "markdown",
      "metadata": {
        "id": "F8H-WZHXLlK4"
      },
      "source": [
        "### Model definition\n",
        "The following cell defines the model architecture. There is a Convolutional part made of multiple convolutinal layers with differnet depths and filter sizes. MaxPooling are used to reduce the sizes of tensors as we go deeper into the network. Batch Normalization and Dropout are use at the training phase to reduce over fitting."
      ]
    },
    {
      "cell_type": "code",
      "metadata": {
        "id": "Qq8oEFnMJ4Ld"
      },
      "source": [
        "# CNN Ting\n",
        "def CNN_Nair(img_channels, img_rows, img_cols):\n",
        "    \n",
        "    # some hyperparamters you can chage\n",
        "    dropoutpar=0.5\n",
        "    depth=16   \n",
        "    nb_dense = 64\n",
        "  \n",
        "    inputs = layers.Input(shape=(2000, 1))\n",
        "    conv1 = layers.Conv1D(16, (100), activation='relu', padding=\"same\")(inputs)\n",
        "    #pool1 = layers.MaxPooling2D((100, 1))(conv1)\n",
        "    conv2 = layers.Conv1D(64, (100), activation='relu', padding=\"same\")(conv1)\n",
        "    pool2 = layers.MaxPooling1D((20))(conv2)\n",
        "    conv3= layers.Conv1D(64, (100), activation='relu', padding=\"same\")(pool2)\n",
        "    pool3 = layers.MaxPooling1D((100))(conv3)\n",
        "    flatten1 = layers.Flatten()(pool3) \n",
        "    dense1 = layers.Dense(64,activation='relu')(flatten1)\n",
        "    dense2 = layers.Dense(32,activation='relu')(dense1)\n",
        "    dense3 = layers.Dense(1,activation='softmax')(dense2)\n",
        "    model = models.Model(inputs, dense3)\n",
        "\n",
        "    #model=Sequential()\n",
        "    #model.add(Conv2D(64, 64,1, activation='relu',padding='same',input_shape=(img_rows, img_cols, img_channels)))\n",
        "    #model.add(Conv2D(64, 64,12, activation='relu',padding='same',input_shape=(img_rows, img_cols, img_channels)))\n",
        "    #model.add(BatchNormalization())  ## batch normalization layer\n",
        "    ## ADD LAYERS / CONVOLUTIONS HERE\n",
        "    ## FROM HERE IS THE FULLY CONNECTED PART OF THE MODEL. YOU CAN ALSO CHANGE THIS\n",
        "    #model.add(Flatten())\n",
        "    #model.add(Dense(nb_dense, activation='relu'))\n",
        "    #model.add(Dropout(dropoutpar)) \n",
        "\n",
        "    ## OUTPUT LAYER -- DO NOT CHANGE\n",
        "    #model.add(Dense(3, kernel_initializer='uniform', activation='sigmoid'))  \n",
        "\n",
        "    # COMPILES THE MODEL. WE USE CROSS-ENTROPY LOSS. YOU CAN CHANGE THE OPTIMIZER\n",
        "    # IF NEEDED\n",
        "    print(\"Compilation...\")\n",
        "    model.compile(loss='binary_crossentropy',optimizer='adam',metrics=['accuracy'])\n",
        "    #model.compile(loss='categorical_crossentropy',optimizer='SGD',metrics=['accuracy'])\n",
        "    print(\"... done!\")\n",
        "    print(\"Model Summary\")\n",
        "    print(\"===================\")\n",
        "    model.summary()\n",
        "    return model"
      ],
      "execution_count": 58,
      "outputs": []
    },
    {
      "cell_type": "markdown",
      "metadata": {
        "id": "EFKDX1PtP4x7"
      },
      "source": [
        "This cell is to delete prevois runs if needed. Only run if you want to delete the results from previous runs."
      ]
    },
    {
      "cell_type": "code",
      "metadata": {
        "id": "8FO8dzy8DdQY"
      },
      "source": [
        "RESET=True\n",
        "if RESET:\n",
        "  os.system(\"rm -r \"+pathout)"
      ],
      "execution_count": 59,
      "outputs": []
    },
    {
      "cell_type": "markdown",
      "metadata": {
        "id": "NjEmToBYRaJJ"
      },
      "source": [
        "Main code for training the CNN model defined previously. All outputs are stored in pathout. Change if you want to keep different models. BY default the dataset is augmented to reduce overfitting. You can turn it off be setting data_augmentation to False."
      ]
    },
    {
      "cell_type": "code",
      "metadata": {
        "colab": {
          "base_uri": "https://localhost:8080/"
        },
        "id": "-gh5bQhF98Gq",
        "outputId": "ba500852-7fb0-4f10-f3d9-57f37bd0902b"
      },
      "source": [
        "# train params - hardocded for simplicity - you can change them\n",
        "pathout='model' #output folder to store the results\n",
        "model_name = '/cnn1'  #name of the final model which is saved in pathout\n",
        "\n",
        "LOAD_MODEL=False\n",
        "\n",
        "batch_size = 100\n",
        "nb_epoch = 20  #number of iterations for training - Can be changed\n",
        "data_augmentation = False # if set to True the data will be augmented at every iteration\n",
        "\n",
        "\n",
        "    \n",
        "# input image dimensions\n",
        "img_rows, img_cols = x_train.shape[1:3]\n",
        "img_channels = 1\n",
        "\n",
        "#Avoid more iterations once convergence\n",
        "patience_par=10\n",
        "#earlystopping = EarlyStopping(monitor='val_loss',patience = patience_par,verbose=0,mode='auto' )\n",
        "modelcheckpoint = ModelCheckpoint(pathout+model_name+\"_best.hd5\",monitor='val_loss',verbose=0,save_best_only=True)\n",
        "tensorboard = TensorBoard(log_dir=pathout)\n",
        "\n",
        "#build model\n",
        "#cnn=CNN_Nair(img_channels, img_rows, img_cols)\n",
        "cnn=CNN_Nair(img_channels, img_rows, img_cols)\n",
        "if LOAD_MODEL:\n",
        "  cnn.load_weights(pathout+model_name+'.hd5')\n",
        "\n",
        "\n",
        "if not data_augmentation:\n",
        "  print('Not using data augmentation.')\n",
        "  history = cnn.fit(x_train, t_train,\n",
        "                            batch_size=batch_size,\n",
        "                            epochs=nb_epoch,\n",
        "                            validation_data=(x_val, t_val),\n",
        "                            shuffle=True)\n",
        "                            #callbacks=[modelcheckpoint,tensorboard])#callbacks=[earlystopping, modelcheckpoint,tensorboard])\n",
        "else:\n",
        "  print('Using real-time data augmentation.')\n",
        "\n",
        "  # this will do preprocessing and realtime data augmentation. FEEL FREE TO\n",
        "  # CHANGE THE PARAMETERS AND SEE THE EFFECTS\n",
        "  datagen = ImageDataGenerator(\n",
        "            featurewise_center=False, \n",
        "            samplewise_center=False, \n",
        "            featurewise_std_normalization=False, \n",
        "            samplewise_std_normalization=False,\n",
        "            zca_whitening=False, \n",
        "            rotation_range=0,\n",
        "            width_shift_range=0.1,  \n",
        "            height_shift_range=0.1, \n",
        "            horizontal_flip=True,\n",
        "            vertical_flip=True,\n",
        "            zoom_range=False)  \n",
        "\n",
        "        \n",
        "  datagen.fit(x_train)\n",
        "        \n",
        "  history = cnn.fit_generator(\n",
        "                    datagen.flow(x_train, t_train, batch_size=batch_size),\n",
        "                    steps_per_epoch=batch_size,\n",
        "                    epochs=nb_epoch,\n",
        "                    validation_data=(x_val, t_val),\n",
        "                    callbacks=[modelcheckpoint,tensorboard]#[ earlystopping, modelcheckpoint,tensorboard]\n",
        "                )\n",
        "\n",
        "\n",
        "\n",
        "print(\"Saving model...\")\n",
        "cnn.save_weights(pathout+model_name+\".hd5\",overwrite=True)\n",
        "    \n",
        "        \n"
      ],
      "execution_count": 60,
      "outputs": [
        {
          "output_type": "stream",
          "text": [
            "Compilation...\n",
            "... done!\n",
            "Model Summary\n",
            "===================\n",
            "Model: \"model_10\"\n",
            "_________________________________________________________________\n",
            "Layer (type)                 Output Shape              Param #   \n",
            "=================================================================\n",
            "input_12 (InputLayer)        [(None, 2000, 1)]         0         \n",
            "_________________________________________________________________\n",
            "conv1d_3 (Conv1D)            (None, 2000, 16)          1616      \n",
            "_________________________________________________________________\n",
            "conv1d_4 (Conv1D)            (None, 2000, 64)          102464    \n",
            "_________________________________________________________________\n",
            "max_pooling1d_2 (MaxPooling1 (None, 100, 64)           0         \n",
            "_________________________________________________________________\n",
            "conv1d_5 (Conv1D)            (None, 100, 64)           409664    \n",
            "_________________________________________________________________\n",
            "max_pooling1d_3 (MaxPooling1 (None, 1, 64)             0         \n",
            "_________________________________________________________________\n",
            "flatten_10 (Flatten)         (None, 64)                0         \n",
            "_________________________________________________________________\n",
            "dense_30 (Dense)             (None, 64)                4160      \n",
            "_________________________________________________________________\n",
            "dense_31 (Dense)             (None, 32)                2080      \n",
            "_________________________________________________________________\n",
            "dense_32 (Dense)             (None, 1)                 33        \n",
            "=================================================================\n",
            "Total params: 520,017\n",
            "Trainable params: 520,017\n",
            "Non-trainable params: 0\n",
            "_________________________________________________________________\n",
            "Not using data augmentation.\n",
            "Epoch 1/20\n",
            "21/21 [==============================] - 3s 108ms/step - loss: 0.6827 - accuracy: 0.5032 - val_loss: 0.6887 - val_accuracy: 0.4844\n",
            "Epoch 2/20\n",
            "21/21 [==============================] - 2s 94ms/step - loss: 0.6453 - accuracy: 0.5032 - val_loss: 0.5610 - val_accuracy: 0.4844\n",
            "Epoch 3/20\n",
            "21/21 [==============================] - 2s 95ms/step - loss: 0.4158 - accuracy: 0.5032 - val_loss: 0.2791 - val_accuracy: 0.4844\n",
            "Epoch 4/20\n",
            "21/21 [==============================] - 2s 93ms/step - loss: 0.2136 - accuracy: 0.5032 - val_loss: 0.1819 - val_accuracy: 0.4844\n",
            "Epoch 5/20\n",
            "21/21 [==============================] - 2s 94ms/step - loss: 0.1895 - accuracy: 0.5032 - val_loss: 0.1512 - val_accuracy: 0.4844\n",
            "Epoch 6/20\n",
            "21/21 [==============================] - 2s 94ms/step - loss: 0.1641 - accuracy: 0.5032 - val_loss: 0.1606 - val_accuracy: 0.4844\n",
            "Epoch 7/20\n",
            "21/21 [==============================] - 2s 93ms/step - loss: 0.1648 - accuracy: 0.5032 - val_loss: 0.1712 - val_accuracy: 0.4844\n",
            "Epoch 8/20\n",
            "21/21 [==============================] - 2s 93ms/step - loss: 0.1590 - accuracy: 0.5032 - val_loss: 0.1657 - val_accuracy: 0.4844\n",
            "Epoch 9/20\n",
            "21/21 [==============================] - 2s 94ms/step - loss: 0.1484 - accuracy: 0.5032 - val_loss: 0.1411 - val_accuracy: 0.4844\n",
            "Epoch 10/20\n",
            "21/21 [==============================] - 2s 94ms/step - loss: 0.1418 - accuracy: 0.5032 - val_loss: 0.1533 - val_accuracy: 0.4844\n",
            "Epoch 11/20\n",
            "21/21 [==============================] - 2s 93ms/step - loss: 0.1691 - accuracy: 0.5032 - val_loss: 0.1577 - val_accuracy: 0.4844\n",
            "Epoch 12/20\n",
            "21/21 [==============================] - 2s 93ms/step - loss: 0.1293 - accuracy: 0.5032 - val_loss: 0.1469 - val_accuracy: 0.4844\n",
            "Epoch 13/20\n",
            "21/21 [==============================] - 2s 93ms/step - loss: 0.1220 - accuracy: 0.5032 - val_loss: 0.1318 - val_accuracy: 0.4844\n",
            "Epoch 14/20\n",
            "21/21 [==============================] - 2s 94ms/step - loss: 0.1058 - accuracy: 0.5032 - val_loss: 0.1340 - val_accuracy: 0.4844\n",
            "Epoch 15/20\n",
            "21/21 [==============================] - 2s 93ms/step - loss: 0.0979 - accuracy: 0.5032 - val_loss: 0.1645 - val_accuracy: 0.4844\n",
            "Epoch 16/20\n",
            "21/21 [==============================] - 2s 94ms/step - loss: 0.0832 - accuracy: 0.5032 - val_loss: 0.1444 - val_accuracy: 0.4844\n",
            "Epoch 17/20\n",
            "21/21 [==============================] - 2s 94ms/step - loss: 0.0785 - accuracy: 0.5032 - val_loss: 0.1674 - val_accuracy: 0.4844\n",
            "Epoch 18/20\n",
            "21/21 [==============================] - 2s 94ms/step - loss: 0.0681 - accuracy: 0.5032 - val_loss: 0.2653 - val_accuracy: 0.4844\n",
            "Epoch 19/20\n",
            "21/21 [==============================] - 2s 93ms/step - loss: 0.0811 - accuracy: 0.5032 - val_loss: 0.2993 - val_accuracy: 0.4844\n",
            "Epoch 20/20\n",
            "21/21 [==============================] - 2s 95ms/step - loss: 0.0878 - accuracy: 0.5032 - val_loss: 0.2095 - val_accuracy: 0.4844\n",
            "Saving model...\n"
          ],
          "name": "stdout"
        }
      ]
    },
    {
      "cell_type": "code",
      "metadata": {
        "colab": {
          "base_uri": "https://localhost:8080/",
          "height": 296
        },
        "id": "CfRPjByfWDZ4",
        "outputId": "5cf4b593-bac3-4063-b26c-25079b86f82a"
      },
      "source": [
        "plot(history.history['loss'])\n",
        "plot(history.history['val_loss'],color='red')\n",
        "plt.xlabel('Epochs')\n",
        "plt.ylabel('Loss')"
      ],
      "execution_count": null,
      "outputs": [
        {
          "data": {
            "text/plain": [
              "Text(0, 0.5, 'Loss')"
            ]
          },
          "execution_count": 119,
          "metadata": {},
          "output_type": "execute_result"
        },
        {
          "data": {
            "image/png": "[encoded data removed]",
            "text/plain": [
              "<Figure size 432x288 with 1 Axes>"
            ]
          },
          "metadata": {
            "needs_background": "light"
          },
          "output_type": "display_data"
        }
      ]
    },
    {
      "cell_type": "markdown",
      "metadata": {
        "id": "E6jXNmKDGcyo"
      },
      "source": [
        "## Predictions and comparisons of different approaches\n",
        "The following cells use the trained models (RF,ANN and CNN) to predict the morphological class of the test dataset and compare the performance of the different algorithms. "
      ]
    },
    {
      "cell_type": "code",
      "metadata": {
        "id": "MFpihOh0FuN2"
      },
      "source": [
        "print(\"Predicting...\")\n",
        "print(\"====================\")\n",
        "LOAD_MODEL=False\n",
        "if LOAD_MODEL:\n",
        "  cnn = tf.keras.models.load_model(pathout+model_name+\".hd5\")\n",
        "\n",
        "Y_pred_DL = cnn.predict(x_test)\n"
      ],
      "execution_count": null,
      "outputs": []
    },
    {
      "cell_type": "markdown",
      "metadata": {
        "id": "mXKSAhBqSX2g"
      },
      "source": [
        "We now compute the global accuracy as well as ROC and P-R curves. If you are not familiar with these curves please see the lecture slides or click [here](https://en.wikipedia.org/wiki/Receiver_operating_characteristic) "
      ]
    },
    {
      "cell_type": "code",
      "metadata": {
        "id": "svvKwV-AGpYB"
      },
      "source": [
        "#global accuracy\n",
        "\n",
        "## TRY DIFFERENT MODELS - SEE THE EFFECTS ON THE FINAL ROC CURVES\n",
        "\n",
        "\n",
        "Y_pred_DL_class=Y_pred_DL*0\n",
        "Y_pred_DL_class[Y_pred_DL>0.5]=1\n",
        "\n",
        "print(\"Global Accuracy CNN:\", accuracy_score(t_test, Y_pred_DL_class))\n",
        "\n",
        "\n",
        "\n",
        "\n",
        "# ROC curve (False positive rate vs. True positive rate)\n",
        "fpr_DL, tpr_DL, thresholds_DL = roc_curve(t_test, Y_pred_DL)\n",
        "\n",
        "print(\"AUC CNN:\", auc(fpr_DL, tpr_DL))\n",
        "\n",
        "#plot ROC\n",
        "fig = plt.figure() \n",
        "title('ROC curve',fontsize=18)\n",
        "xlabel(\"FPR\", fontsize=20)\n",
        "ylabel(\"TPR\", fontsize=20)\n",
        "xlim(0,1)\n",
        "ylim(0,1)\n",
        "plot(fpr_DL,tpr_DL,linewidth=3,color='red',label='CNN')\n",
        "\n",
        "legend(fontsize=14)\n",
        "\n",
        "\n",
        "# Precision Recall curve (False positive rate vs. True positive rate)\n",
        "precision_DL, recall_DL, thresholds_DL = precision_recall_curve(t_test, Y_pred_DL)\n",
        "\n",
        "#plot PR curve\n",
        "fig = plt.figure() \n",
        "title('P-R curve',fontsize=18)\n",
        "xlabel(\"Precision\", fontsize=20)\n",
        "ylabel(\"Recall\", fontsize=20)\n",
        "xlim(0,1)\n",
        "ylim(0,1)\n",
        "plot(precision_DL,recall_DL,linewidth=3,color='red',label='CNN')\n",
        "legend(fontsize=14)"
      ],
      "execution_count": null,
      "outputs": []
    },
    {
      "cell_type": "markdown",
      "metadata": {
        "id": "s9dWvIFkixw-"
      },
      "source": [
        "Can you make a more complex architecture i.e. Resnet? Does it improve?"
      ]
    },
    {
      "cell_type": "markdown",
      "metadata": {
        "id": "l8B5LNsyTuPY"
      },
      "source": [
        "The follwing cells visualize some random examples of bad classifications in order to explore what the network has understood. If you run multiple times the examples will change."
      ]
    },
    {
      "cell_type": "markdown",
      "metadata": {
        "id": "sEml6NaOT_Sj"
      },
      "source": [
        "### Bad classifications of CNNs"
      ]
    },
    {
      "cell_type": "code",
      "metadata": {
        "id": "hjiZtz61H_cY"
      },
      "source": [
        "# objects classifed as early-types by the CNN but visually classifed as late-types\n",
        "bad = np.where((Y_pred_DL[:,0]<0.5)&(t_test==1))\n",
        "randomized_inds_train = np.random.permutation(bad)\n",
        "\n",
        "fig = plt.figure()\n",
        "fig.suptitle(\"Galaxies visually classifed as Class1 but classified as Class0\",fontsize=10)\n",
        "for i,j in zip(randomized_inds_train[0][0:4],range(4)):\n",
        "  ax = fig.add_subplot(2, 2, j+1)\n",
        "  im = ax.imshow(x_test[i,:,:])\n",
        "  plt.title('$Morph$='+str(t_test[i]))\n",
        "  fig.tight_layout() \n",
        "  fig.colorbar(im)\n",
        "\n",
        "\n",
        "\n",
        "# objects classifed as late-types by the CNN but visually classifed as early-types\n",
        "bad2 = np.where((Y_pred_DL[:,0]>0.5)&(t_test==0))\n",
        "randomized_inds_train = np.random.permutation(bad2)\n",
        "\n",
        "fig = plt.figure()\n",
        "fig.suptitle(\"Galaxies visually classifed as Class0 but classified as Class1\",fontsize=10)\n",
        "for i,j in zip(randomized_inds_train[0][0:4],range(4)):\n",
        "  ax = fig.add_subplot(2, 2, j+1)\n",
        "  im = ax.imshow(x_test[i,:,:])\n",
        "  plt.title('$Morph$='+str(t_test[i]))\n",
        "  fig.tight_layout() \n",
        "  fig.colorbar(im)\n"
      ],
      "execution_count": null,
      "outputs": []
    },
    {
      "cell_type": "markdown",
      "metadata": {
        "id": "GgT0tnlN2c7J"
      },
      "source": [
        "Can you plot the mass-color plane of the previous notebook (ANN Galaxy Morphology) and see where bad CNN classifications are located ?"
      ]
    },
    {
      "cell_type": "code",
      "metadata": {
        "id": "jx-BT4zM348O"
      },
      "source": [
        "## THIS IS THE MAIN CELL TO DEFINE A CONVOLUTIONAL MODEL\n",
        "## FELL FREE TO EDIT / CHANGE / ADD LAYERS\n",
        "## AS IT IS NOW IT CONTAINS ONLY ONE COVOLUTIONAL LAYER\n",
        "\n",
        "def CNN_Nair(img_channels, img_rows, img_cols):\n",
        "    \n",
        "    # some hyperparamters you can chage\n",
        "    dropoutpar=0.5\n",
        "    depth=16   \n",
        "    nb_dense = 64\n",
        "  \n",
        "    #inputs = layers.Input(shape=(64, 64, 1))\n",
        "    #conv1A = layers.Conv2D(16, (7, 7), activation='relu', padding=\"same\",strides=(1,1))(inputs)\n",
        "    #model = models.Model(inputs, conv1A)\n",
        "\n",
        "    model=Sequential()\n",
        "    model.add(Conv2D(64, 64,1, activation='relu',padding='same',input_shape=(img_rows, img_cols, img_channels)))\n",
        "    model.add(Conv2D(64, 64,12, activation='relu',padding='same',input_shape=(img_rows, img_cols, img_channels)))\n",
        "   \n",
        "    model.add(BatchNormalization())  ## batch normalization layer\n",
        "\n",
        "    ## ADD LAYERS / CONVOLUTIONS HERE\n",
        "    \n",
        "    ## FROM HERE IS THE FULLY CONNECTED PART OF THE MODEL. YOU CAN ALSO CHANGE THIS\n",
        "    model.add(Flatten())\n",
        "    model.add(Dense(nb_dense, activation='relu'))\n",
        "    model.add(Dropout(dropoutpar)) \n",
        "\n",
        "    ## OUTPUT LAYER -- DO NOT CHANGE\n",
        "    model.add(Dense(3, kernel_initializer='uniform', activation='sigmoid'))  \n",
        "\n",
        "    # COMPILES THE MODEL. WE USE CROSS-ENTROPY LOSS. YOU CAN CHANGE THE OPTIMIZER\n",
        "    # IF NEEDED\n",
        "    print(\"Compilation...\")\n",
        "    #model.compile(loss='binary_crossentropy',optimizer='adam',metrics=['accuracy'])\n",
        "    model.compile(loss='categorical_crossentropy',optimizer='SGD',metrics=['accuracy'])\n",
        "    print(\"... done!\")\n",
        "    print(\"Model Summary\")\n",
        "    print(\"===================\")\n",
        "    model.summary()\n",
        "    return model"
      ],
      "execution_count": null,
      "outputs": []
    }
  ]
}