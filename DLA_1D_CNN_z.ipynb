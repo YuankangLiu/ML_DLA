{
  "nbformat": 4,
  "nbformat_minor": 0,
  "metadata": {
    "accelerator": "GPU",
    "colab": {
      "name": "DLA_CNN_ting.ipynb",
      "provenance": [],
      "collapsed_sections": [],
      "toc_visible": true,
      "machine_shape": "hm",
      "include_colab_link": true
    },
    "kernelspec": {
      "display_name": "Python 3",
      "language": "python",
      "name": "python3"
    },
    "language_info": {
      "codemirror_mode": {
        "name": "ipython",
        "version": 3
      },
      "file_extension": ".py",
      "mimetype": "text/x-python",
      "name": "python",
      "nbconvert_exporter": "python",
      "pygments_lexer": "ipython3",
      "version": "3.8.5"
    }
  },
  "cells": [
    {
      "cell_type": "markdown",
      "metadata": {
        "id": "view-in-github",
        "colab_type": "text"
      },
      "source": [
        "<a href=\"https://colab.research.google.com/github/moonlovist/ML_DLA/blob/main/DLA_1D_CNN_z.ipynb\" target=\"_parent\"><img src=\"https://colab.research.google.com/assets/colab-badge.svg\" alt=\"Open In Colab\"/></a>"
      ]
    },
    {
      "cell_type": "markdown",
      "metadata": {
        "id": "4jatIhJ9KJQV"
      },
      "source": [
        "#DLA detection within Ly-alpha forests with CNNs\n",
        "\n",
        "We use a Convolutional Neural Network (deep learning) to learn the features from the quasar spectrum of eBOSS DR16 data. The CNN  model is implemented here with Keras and a TensorFlow backend.  We use as training set, the visually classified sample of ~300,000 quasars.\n",
        "\n",
        "---\n",
        "\n",
        "\n",
        "\n",
        "#### Before we start, make sure to open this Colab notebook in \"PlayGround Mode\" (top left) and to change the Runtime type to GPU by navigating to the toolbar and clicking Runtime -> Change runtime type and then changing Hardware accelerator to GPU\n",
        "\n",
        "---"
      ]
    },
    {
      "cell_type": "code",
      "metadata": {
        "colab": {
          "base_uri": "https://localhost:8080/"
        },
        "id": "Hpv-XO8Sxgvi",
        "outputId": "8dfe8298-8ca3-478a-b84a-49777bb5d4fd"
      },
      "source": [
        "import numpy as np\n",
        "from astropy.io import fits\n",
        "from astropy.table import Table\n",
        "import os\n",
        "from sklearn import preprocessing\n",
        "import tensorflow as tf\n",
        "import keras\n",
        "from keras.preprocessing.image import ImageDataGenerator\n",
        "from keras.models import Sequential\n",
        "from keras.layers.core import Dense, Dropout, Activation, Flatten\n",
        "from keras.layers import  BatchNormalization\n",
        "from keras.layers.convolutional import Conv2D\n",
        "from keras.layers import MaxPool2D\n",
        "from sklearn.model_selection import train_test_split\n",
        "from tensorflow.keras import layers, models\n",
        "import tensorflow.keras.backend as K\n",
        "from keras.callbacks import EarlyStopping\n",
        "from keras.callbacks import ModelCheckpoint\n",
        "from keras.callbacks import TensorBoard\n",
        "\n",
        "from sklearn.metrics import roc_curve, precision_recall_curve, accuracy_score,auc\n",
        "\n",
        "%pylab inline"
      ],
      "execution_count": 1,
      "outputs": [
        {
          "output_type": "stream",
          "name": "stdout",
          "text": [
            "Populating the interactive namespace from numpy and matplotlib\n"
          ]
        }
      ]
    },
    {
      "cell_type": "markdown",
      "metadata": {
        "id": "5aDPpIjr2WUv"
      },
      "source": [
        ""
      ]
    },
    {
      "cell_type": "code",
      "metadata": {
        "colab": {
          "base_uri": "https://localhost:8080/"
        },
        "id": "8Io82GXlCNdF",
        "outputId": "bbf1481a-ea33-437e-94ca-0a2f94c42d27"
      },
      "source": [
        "from google.colab import drive\n",
        "drive.mount('/content/drive')"
      ],
      "execution_count": 2,
      "outputs": [
        {
          "output_type": "stream",
          "name": "stdout",
          "text": [
            "Mounted at /content/drive\n"
          ]
        }
      ]
    },
    {
      "cell_type": "markdown",
      "metadata": {
        "id": "hTJio12w2SLw"
      },
      "source": [
        ""
      ]
    },
    {
      "cell_type": "markdown",
      "metadata": {
        "id": "-A5hM83EeiH5"
      },
      "source": [
        "## Deep Learning (CNN)\n",
        "This section illustrates how to use a Convolutional Neural Network to estimate the DLA detection. The input of the network are now the spectra themselves without parameters. The CNN then automatically extracts the features. This is the main difference between classical and deep learning."
      ]
    },
    {
      "cell_type": "markdown",
      "metadata": {
        "id": "OErN1Sb5enXV"
      },
      "source": [
        "### Data Download and Preparation"
      ]
    },
    {
      "cell_type": "code",
      "metadata": {
        "id": "uhIqCwEg9UUd"
      },
      "source": [
        "#Load data\n",
        "pathinData=\"/content/drive/My Drive/ML_DLA\"\n",
        "\n",
        "#images\n",
        "X = np.load(pathinData+'/Classification_catalog_SN_6_mock_4.7.01.npy')\n",
        "X = np.expand_dims(X,axis=2)\n",
        "#morphological class\n",
        "Y1 = np.load(pathinData+'/Classification_id_SN_6_mock_4.7.01.npy') \n",
        "Y2 = np.load(pathinData+'/Classification_z_SN_6_mock_4.7.01.npy') \n",
        "#Y = np.transpose(np.vstack((Y1,Y2)))\n",
        "Y = Y2"
      ],
      "execution_count": 3,
      "outputs": []
    },
    {
      "cell_type": "code",
      "metadata": {
        "colab": {
          "base_uri": "https://localhost:8080/"
        },
        "id": "Ec2HPnKsprAJ",
        "outputId": "f3f857ea-f651-47ac-e0af-267d96ec83b0"
      },
      "source": [
        "X.shape"
      ],
      "execution_count": null,
      "outputs": [
        {
          "output_type": "execute_result",
          "data": {
            "text/plain": [
              "(1947239, 400, 1)"
            ]
          },
          "metadata": {},
          "execution_count": 11
        }
      ]
    },
    {
      "cell_type": "code",
      "metadata": {
        "id": "8aqc3noTjnTi"
      },
      "source": [
        "Y = Y1"
      ],
      "execution_count": null,
      "outputs": []
    },
    {
      "cell_type": "code",
      "metadata": {
        "colab": {
          "base_uri": "https://localhost:8080/"
        },
        "id": "L1GrJMkyqkIv",
        "outputId": "117cfd2d-2d37-4ebf-ab4d-656ea2e9e91f"
      },
      "source": [
        "Y.shape"
      ],
      "execution_count": null,
      "outputs": [
        {
          "output_type": "execute_result",
          "data": {
            "text/plain": [
              "(1947239,)"
            ]
          },
          "metadata": {},
          "execution_count": 12
        }
      ]
    },
    {
      "cell_type": "code",
      "metadata": {
        "colab": {
          "base_uri": "https://localhost:8080/"
        },
        "id": "fWwBHl2inHvl",
        "outputId": "2d98cedf-3a4d-4f58-eb9e-5e37defa0e40"
      },
      "source": [
        "Y1[Y1==0].shape"
      ],
      "execution_count": null,
      "outputs": [
        {
          "output_type": "execute_result",
          "data": {
            "text/plain": [
              "(1625660,)"
            ]
          },
          "metadata": {},
          "execution_count": 10
        }
      ]
    },
    {
      "cell_type": "markdown",
      "metadata": {
        "id": "jSGeDuRbsY3L"
      },
      "source": [
        ""
      ]
    },
    {
      "cell_type": "code",
      "metadata": {
        "id": "cE1yYHCYxeX6"
      },
      "source": [
        "X = np.vstack((X[Y1==0][0:Y1[Y1==1].shape[0],:,:],X[Y1==1]))\n",
        "Y2 = np.hstack((Y2[Y1==0][0:Y1[Y1==1].shape[0]],Y2[Y1==1]))\n",
        "Y1 = np.hstack((Y1[Y1==0][0:Y1[Y1==1].shape[0]],Y1[Y1==1]))\n",
        "#Y = np.transpose(np.vstack((Y1,Y2)))\n",
        "Y = Y2*Y1\n",
        "Y = np.round(Y,3)"
      ],
      "execution_count": 4,
      "outputs": []
    },
    {
      "cell_type": "code",
      "metadata": {
        "id": "_kTIzwhbsvWU"
      },
      "source": [
        "from sklearn.utils import shuffle\n",
        "X, Y = shuffle(X, Y, random_state=0)"
      ],
      "execution_count": 5,
      "outputs": []
    },
    {
      "cell_type": "code",
      "metadata": {
        "colab": {
          "base_uri": "https://localhost:8080/"
        },
        "id": "s7JrTFYZz96c",
        "outputId": "1d408382-6696-49ca-fbd0-e1bc4908e821"
      },
      "source": [
        "# Spliting in Training and Test datasets, 4/5 of galaxies for training, 1/5 for testing\n",
        "x_train = X[0:len(X)//5*3,:,:]\n",
        "x_val = X[len(X)//5*3:len(X)//5*4,:,:]   \n",
        "x_test = X[len(X)//5*4:,:,:]\n",
        "t_train = Y[0:len(Y)//5*3]\n",
        "t_val = Y[len(Y)//5*3:len(Y)//5*4]\n",
        "t_test = Y[len(Y)//5*4:]\n",
        "#t_train = Y[0:len(Y)//5*3,:]\n",
        "#t_val = Y[len(Y)//5*3:len(Y)//5*4,:]\n",
        "#t_test = Y[len(Y)//5*4,:]\n",
        "print ('Y_train.shape= ', t_train.shape)   "
      ],
      "execution_count": 6,
      "outputs": [
        {
          "output_type": "stream",
          "name": "stdout",
          "text": [
            "Y_train.shape=  (385893,)\n"
          ]
        }
      ]
    },
    {
      "cell_type": "markdown",
      "metadata": {
        "id": "t8HpW3HM5mAP"
      },
      "source": [
        "### Pre-processing of images (Normalization)"
      ]
    },
    {
      "cell_type": "code",
      "metadata": {
        "id": "7lIPKj4l_rXQ"
      },
      "source": [
        "mu = np.median(x_train,axis=(1,2))\n",
        "for i in range(0,mu.shape[0]):\n",
        "    x_train[i,:,:] = x_train[i,:,:]/mu[i]\n",
        "    \n",
        "mu_test = np.amax(x_test,axis=(1,2))\n",
        "for i in range(0,mu_test.shape[0]):\n",
        "    x_test[i,:,:] = x_test[i,:,:]/mu_test[i]\n",
        "\n",
        "mu_val = np.amax(x_val,axis=(1,2))\n",
        "for i in range(0,mu_val.shape[0]):\n",
        "    x_val[i,:,:] = x_val[i,:,:]/mu_val[i] \n"
      ],
      "execution_count": 7,
      "outputs": []
    },
    {
      "cell_type": "code",
      "metadata": {
        "colab": {
          "base_uri": "https://localhost:8080/",
          "height": 297
        },
        "id": "rHiJCiHEtczI",
        "outputId": "4f7a69cd-43bb-492e-ab09-1d03047dc9c5"
      },
      "source": [
        "randomized_inds_train = np.random.permutation(len(x_train))\n",
        "\n",
        "fig = plt.figure()\n",
        "\n",
        "\n",
        "for i,j in zip(randomized_inds_train[0:16],range(16)):\n",
        "  ax = fig.add_subplot(4, 4, j+1)\n",
        "  im = ax.plot(x_train[i])\n",
        "  plt.title('$Classify$='+str(t_train[i]))\n",
        "  fig.tight_layout() "
      ],
      "execution_count": 8,
      "outputs": [
        {
          "output_type": "display_data",
          "data": {
            "image/png": "[encoded data removed]",
            "text/plain": [
              "<Figure size 432x288 with 16 Axes>"
            ]
          },
          "metadata": {
            "needs_background": "light"
          }
        }
      ]
    },
    {
      "cell_type": "markdown",
      "metadata": {
        "id": "F8H-WZHXLlK4"
      },
      "source": [
        "### Model definition\n",
        "The following cell defines the model architecture. There is a Convolutional part made of multiple convolutinal layers with differnet depths and filter sizes. MaxPooling are used to reduce the sizes of tensors as we go deeper into the network. Batch Normalization and Dropout are use at the training phase to reduce over fitting."
      ]
    },
    {
      "cell_type": "code",
      "metadata": {
        "id": "dUKQyGR9G0ej"
      },
      "source": [
        "def custom_loss(y_true, y_pred):\n",
        "    \n",
        "    nboxes = y_pred.get_shape().as_list()[1]\n",
        "    #print(nboxes)\n",
        "    #tf.print(y_true[...,0:nboxes],y_true[...,nboxes:2*nboxes],y_true[...,2*nboxes:3*nboxes])\n",
        "    #print(y_pred.shape,y_true[...,nboxes:2*nboxes].eval(),y_pred[...,nboxes:2*nboxes].eval())\n",
        "    #N1 = tf.math.reduce_sum(y_true[...,0:nboxes], axis=1) + K.epsilon()\n",
        "    #N2 = tf.math.reduce_sum((1-y_true[...,0:nboxes]), axis=1) + K.epsilon()\n",
        "    #loss_class = -tf.math.reduce_sum(y_true[...,0:nboxes]*tf.math.log(K.clip(y_pred[...,0:nboxes], K.epsilon(), 1-K.epsilon())), axis=1)/N1\n",
        "    #loss_class -= tf.math.reduce_sum((1-y_true[...,0:nboxes])*tf.math.log(K.clip(1-y_pred[...,0:nboxes], K.epsilon(), 1-K.epsilon())), axis=1)/N2\n",
        "\n",
        "    z_true = y_true[...,0:nboxes]\n",
        "    z_pred = y_pred[...,0:nboxes]\n",
        "    #tf.print(z_true,z_pred)\n",
        "    dz = tf.math.subtract(z_true, z_pred)\n",
        "    N1 = tf.math.reduce_sum(y_true[...,0:nboxes], axis=1) + K.epsilon()\n",
        "    loss_z = tf.math.reduce_sum(tf.math.square(dz), axis=1)\n",
        "\n",
        "    #NHI_true = y_true[...,2*nboxes:3*nboxes]\n",
        "    #NHI_pred = y_pred[...,2*nboxes:3*nboxes]\n",
        "    #dNHI = tf.math.subtract(NHI_true, NHI_pred)\n",
        "    #loss_NHI = tf.math.reduce_sum(y_true[...,0:nboxes]*tf.math.square(dNHI), axis=1)*0.01/N1\n",
        "    #tf.print(loss_class,loss_z,loss_NHI)\n",
        "    return loss_z\n",
        "\n"
      ],
      "execution_count": 9,
      "outputs": []
    },
    {
      "cell_type": "code",
      "metadata": {
        "id": "rc2EHDLOqFX8"
      },
      "source": [
        "def accuracy_z(y_true, y_pred):\n",
        "  nboxes = y_pred.get_shape().as_list()[1]\n",
        "  difference = y_pred[...,0:nboxes].numpy().reshape(-1)-y_true[...,0:nboxes].numpy().reshape(-1)\n",
        "  accuracy_array = difference<0.012\n",
        "  accuracy_count = np.count_nonzero(accuracy_array)\n",
        "  accuracy = round(accuracy_count/difference.shape[0],5)\n",
        "  return accuracy"
      ],
      "execution_count": 10,
      "outputs": []
    },
    {
      "cell_type": "code",
      "metadata": {
        "id": "Qq8oEFnMJ4Ld"
      },
      "source": [
        "# CNN Ting\n",
        "def CNN_Nair(img_channels, img_rows, img_cols):\n",
        "    \n",
        "    # some hyperparamters you can chage\n",
        "    dropoutpar=0.5\n",
        "    depth=16   \n",
        "    nb_dense = 64\n",
        "  \n",
        "    inputs = layers.Input(shape=(400, 1))\n",
        "    conv1 = layers.Conv1D(100, 32,strides = 3, activation='relu', padding=\"same\")(inputs)\n",
        "    pool1 = layers.MaxPooling1D(7,strides = 4)(conv1)\n",
        "    conv2 = layers.Conv1D(96, 16,strides = 1, activation='relu', padding=\"same\")(pool1)\n",
        "    pool2 = layers.MaxPooling1D(6,strides = 4)(conv2)\n",
        "    conv3= layers.Conv1D(96, 16,strides = 1, activation='relu', padding=\"same\")(pool2)\n",
        "    pool3 = layers.MaxPooling1D(6,strides = 4)(conv3)\n",
        "    flatten1 = layers.Flatten()(pool3) \n",
        "    dense1 = layers.Dense(64,activation='relu')(flatten1)\n",
        "    dense2 = layers.Dense(32,activation='relu')(dense1)\n",
        "    #dense3 = layers.Dense(1,activation='softmax')(dense2)\n",
        "    #dense3 = layers.Dense(1,activation='sigmoid')(dense2)\n",
        "    dense3 = layers.Dense(1,activation='relu')(dense2)\n",
        "    model = models.Model(inputs, dense3)\n",
        "\n",
        "    #model=Sequential()\n",
        "    #model.add(Conv2D(64, 64,1, activation='relu',padding='same',input_shape=(img_rows, img_cols, img_channels)))\n",
        "    #model.add(Conv2D(64, 64,12, activation='relu',padding='same',input_shape=(img_rows, img_cols, img_channels)))\n",
        "    #model.add(BatchNormalization())  ## batch normalization layer\n",
        "    ## ADD LAYERS / CONVOLUTIONS HERE\n",
        "    ## FROM HERE IS THE FULLY CONNECTED PART OF THE MODEL. YOU CAN ALSO CHANGE THIS\n",
        "    #model.add(Flatten())\n",
        "    #model.add(Dense(nb_dense, activation='relu'))\n",
        "    #model.add(Dropout(dropoutpar)) \n",
        "\n",
        "    ## OUTPUT LAYER -- DO NOT CHANGE\n",
        "    #model.add(Dense(3, kernel_initializer='uniform', activation='sigmoid'))  \n",
        "\n",
        "    # COMPILES THE MODEL. WE USE CROSS-ENTROPY LOSS. YOU CAN CHANGE THE OPTIMIZER\n",
        "    # IF NEEDED\n",
        "    print(\"Compilation...\")\n",
        "    model.compile(loss=custom_loss,optimizer='SGD',metrics=[accuracy_z],run_eagerly=True)\n",
        "    #model.compile(loss='binary_crossentropy',optimizer='SGD',metrics=['accuracy'])\n",
        "    #model.compile(loss=tf.keras.losses.CategoricalCrossentropy,optimizer='SGD',metrics=['accuracy'])\n",
        "    #model.compile(loss='categorical_crossentropy',optimizer='SGD',metrics=['accuracy'])\n",
        "    print(\"... done!\")\n",
        "    print(\"Model Summary\")\n",
        "    print(\"===================\")\n",
        "    model.summary()\n",
        "    return model"
      ],
      "execution_count": 13,
      "outputs": []
    },
    {
      "cell_type": "markdown",
      "metadata": {
        "id": "EFKDX1PtP4x7"
      },
      "source": [
        "This cell is to delete prevois runs if needed. Only run if you want to delete the results from previous runs."
      ]
    },
    {
      "cell_type": "code",
      "metadata": {
        "id": "8FO8dzy8DdQY",
        "colab": {
          "base_uri": "https://localhost:8080/",
          "height": 199
        },
        "outputId": "c8500962-64ba-420e-e320-b210d0715cd4"
      },
      "source": [
        "RESET=True\n",
        "if RESET:\n",
        "  os.system(\"rm -r \"+pathout)"
      ],
      "execution_count": null,
      "outputs": [
        {
          "output_type": "error",
          "ename": "NameError",
          "evalue": "ignored",
          "traceback": [
            "\u001b[0;31m---------------------------------------------------------------------------\u001b[0m",
            "\u001b[0;31mNameError\u001b[0m                                 Traceback (most recent call last)",
            "\u001b[0;32m<ipython-input-21-0efe17aa9d78>\u001b[0m in \u001b[0;36m<module>\u001b[0;34m()\u001b[0m\n\u001b[1;32m      1\u001b[0m \u001b[0mRESET\u001b[0m\u001b[0;34m=\u001b[0m\u001b[0;32mTrue\u001b[0m\u001b[0;34m\u001b[0m\u001b[0;34m\u001b[0m\u001b[0m\n\u001b[1;32m      2\u001b[0m \u001b[0;32mif\u001b[0m \u001b[0mRESET\u001b[0m\u001b[0;34m:\u001b[0m\u001b[0;34m\u001b[0m\u001b[0;34m\u001b[0m\u001b[0m\n\u001b[0;32m----> 3\u001b[0;31m   \u001b[0mos\u001b[0m\u001b[0;34m.\u001b[0m\u001b[0msystem\u001b[0m\u001b[0;34m(\u001b[0m\u001b[0;34m\"rm -r \"\u001b[0m\u001b[0;34m+\u001b[0m\u001b[0mpathout\u001b[0m\u001b[0;34m)\u001b[0m\u001b[0;34m\u001b[0m\u001b[0;34m\u001b[0m\u001b[0m\n\u001b[0m",
            "\u001b[0;31mNameError\u001b[0m: name 'pathout' is not defined"
          ]
        }
      ]
    },
    {
      "cell_type": "markdown",
      "metadata": {
        "id": "NjEmToBYRaJJ"
      },
      "source": [
        "Main code for training the CNN model defined previously. All outputs are stored in pathout. Change if you want to keep different models. BY default the dataset is augmented to reduce overfitting. You can turn it off be setting data_augmentation to False."
      ]
    },
    {
      "cell_type": "code",
      "metadata": {
        "colab": {
          "base_uri": "https://localhost:8080/"
        },
        "id": "-gh5bQhF98Gq",
        "outputId": "48cef07e-0e59-4a53-d3d6-a5e0fa6b33eb"
      },
      "source": [
        "# train params - hardocded for simplicity - you can change them\n",
        "pathout='/content/drive/My Drive/ML_DLA/model' #output folder to store the results\n",
        "model_name = '/cnn_SN_6_z'  #name of the final model which is saved in pathout\n",
        "\n",
        "LOAD_MODEL=False\n",
        "\n",
        "batch_size = 100\n",
        "nb_epoch = 10  #number of iterations for training - Can be changed\n",
        "data_augmentation = False # if set to True the data will be augmented at every iteration\n",
        "# input image dimensions\n",
        "img_rows, img_cols = x_train.shape[1:3]\n",
        "img_channels = 1\n",
        "\n",
        "#Avoid more iterations once convergence\n",
        "patience_par=10\n",
        "earlystopping = EarlyStopping(monitor='val_loss',patience = patience_par,verbose=0,mode='auto' )\n",
        "modelcheckpoint = ModelCheckpoint(pathout+model_name+\"_best.hd5\",monitor='val_loss',verbose=0,save_best_only=True)\n",
        "tensorboard = TensorBoard(log_dir=pathout)\n",
        "\n",
        "#build model\n",
        "#cnn=CNN_Nair(img_channels, img_rows, img_cols)\n",
        "cnn=CNN_Nair(img_channels, img_rows, img_cols)\n",
        "if LOAD_MODEL:\n",
        "  cnn.load_weights(pathout+model_name+'.hd5')\n",
        "\n",
        "\n",
        "if not data_augmentation:\n",
        "  print('Not using data augmentation.')\n",
        "  history = cnn.fit(x_train, t_train,\n",
        "                            batch_size=batch_size,\n",
        "                            epochs=nb_epoch,\n",
        "                            validation_data=(x_val, t_val),\n",
        "                            shuffle=True,\n",
        "                            callbacks=[earlystopping, modelcheckpoint,tensorboard])\n",
        "else:\n",
        "  print('Using real-time data augmentation.')\n",
        "\n",
        "  # this will do preprocessing and realtime data augmentation. FEEL FREE TO\n",
        "  # CHANGE THE PARAMETERS AND SEE THE EFFECTS\n",
        "  datagen = ImageDataGenerator(\n",
        "            featurewise_center=False, \n",
        "            samplewise_center=False, \n",
        "            featurewise_std_normalization=False, \n",
        "            samplewise_std_normalization=False,\n",
        "            zca_whitening=False, \n",
        "            rotation_range=0,\n",
        "            width_shift_range=0.1,  \n",
        "            height_shift_range=0.1, \n",
        "            horizontal_flip=True,\n",
        "            vertical_flip=True,\n",
        "            zoom_range=False)  \n",
        "\n",
        "        \n",
        "  datagen.fit(x_train)\n",
        "        \n",
        "  history = cnn.fit_generator(\n",
        "                    datagen.flow(x_train, t_train, batch_size=batch_size),\n",
        "                    steps_per_epoch=batch_size,\n",
        "                    epochs=nb_epoch,\n",
        "                    validation_data=(x_val, t_val),\n",
        "                    callbacks=[modelcheckpoint,tensorboard]#[ earlystopping, modelcheckpoint,tensorboard]\n",
        "                )\n",
        "\n",
        "\n",
        "\n",
        "print(\"Saving model...\")\n",
        "cnn.save_weights(pathout+model_name+\".hd5\",overwrite=True)\n",
        "    \n",
        "        \n"
      ],
      "execution_count": 14,
      "outputs": [
        {
          "output_type": "stream",
          "name": "stdout",
          "text": [
            "Compilation...\n",
            "... done!\n",
            "Model Summary\n",
            "===================\n",
            "Model: \"model_1\"\n",
            "_________________________________________________________________\n",
            "Layer (type)                 Output Shape              Param #   \n",
            "=================================================================\n",
            "input_2 (InputLayer)         [(None, 400, 1)]          0         \n",
            "_________________________________________________________________\n",
            "conv1d_3 (Conv1D)            (None, 134, 100)          3300      \n",
            "_________________________________________________________________\n",
            "max_pooling1d_3 (MaxPooling1 (None, 32, 100)           0         \n",
            "_________________________________________________________________\n",
            "conv1d_4 (Conv1D)            (None, 32, 96)            153696    \n",
            "_________________________________________________________________\n",
            "max_pooling1d_4 (MaxPooling1 (None, 7, 96)             0         \n",
            "_________________________________________________________________\n",
            "conv1d_5 (Conv1D)            (None, 7, 96)             147552    \n",
            "_________________________________________________________________\n",
            "max_pooling1d_5 (MaxPooling1 (None, 1, 96)             0         \n",
            "_________________________________________________________________\n",
            "flatten_1 (Flatten)          (None, 96)                0         \n",
            "_________________________________________________________________\n",
            "dense_3 (Dense)              (None, 64)                6208      \n",
            "_________________________________________________________________\n",
            "dense_4 (Dense)              (None, 32)                2080      \n",
            "_________________________________________________________________\n",
            "dense_5 (Dense)              (None, 1)                 33        \n",
            "=================================================================\n",
            "Total params: 312,869\n",
            "Trainable params: 312,869\n",
            "Non-trainable params: 0\n",
            "_________________________________________________________________\n",
            "Not using data augmentation.\n",
            "Epoch 1/10\n",
            "3859/3859 [==============================] - 141s 33ms/step - loss: 0.2876 - accuracy_z: 0.7387 - val_loss: 0.4197 - val_accuracy_z: 0.7754\n",
            "INFO:tensorflow:Assets written to: /content/drive/My Drive/ML_DLA/model/cnn_SN_6_z_best.hd5/assets\n",
            "Epoch 2/10\n",
            "3859/3859 [==============================] - 125s 32ms/step - loss: 0.1179 - accuracy_z: 0.7610 - val_loss: 0.2966 - val_accuracy_z: 0.7299\n",
            "INFO:tensorflow:Assets written to: /content/drive/My Drive/ML_DLA/model/cnn_SN_6_z_best.hd5/assets\n",
            "Epoch 3/10\n",
            "3859/3859 [==============================] - 124s 32ms/step - loss: 0.0879 - accuracy_z: 0.7597 - val_loss: 0.3052 - val_accuracy_z: 0.7377\n",
            "Epoch 4/10\n",
            "3859/3859 [==============================] - 124s 32ms/step - loss: 0.0700 - accuracy_z: 0.7623 - val_loss: 0.3116 - val_accuracy_z: 0.7269\n",
            "Epoch 5/10\n",
            "3859/3859 [==============================] - 123s 32ms/step - loss: 0.0585 - accuracy_z: 0.7623 - val_loss: 0.3576 - val_accuracy_z: 0.7732\n",
            "Epoch 6/10\n",
            "3859/3859 [==============================] - 123s 32ms/step - loss: 0.0486 - accuracy_z: 0.7616 - val_loss: 0.6468 - val_accuracy_z: 0.8619\n",
            "Epoch 7/10\n",
            "3859/3859 [==============================] - 123s 32ms/step - loss: 0.0406 - accuracy_z: 0.7598 - val_loss: 0.6879 - val_accuracy_z: 0.8618\n",
            "Epoch 8/10\n",
            "3859/3859 [==============================] - 123s 32ms/step - loss: 0.0341 - accuracy_z: 0.7592 - val_loss: 0.6307 - val_accuracy_z: 0.8300\n",
            "Epoch 9/10\n",
            "3859/3859 [==============================] - 123s 32ms/step - loss: 0.0307 - accuracy_z: 0.7598 - val_loss: 0.7020 - val_accuracy_z: 0.8084\n",
            "Epoch 10/10\n",
            "3859/3859 [==============================] - 122s 32ms/step - loss: 0.0279 - accuracy_z: 0.7611 - val_loss: 0.6147 - val_accuracy_z: 0.8145\n",
            "Saving model...\n"
          ]
        }
      ]
    },
    {
      "cell_type": "code",
      "metadata": {
        "colab": {
          "base_uri": "https://localhost:8080/",
          "height": 296
        },
        "id": "CfRPjByfWDZ4",
        "outputId": "6a755f34-b7d1-42bc-ff8d-afa10f9e1320"
      },
      "source": [
        "plot(history.history['loss'])\n",
        "plot(history.history['val_loss'],color='red')\n",
        "plt.xlabel('Epochs')\n",
        "plt.ylabel('Loss')"
      ],
      "execution_count": 15,
      "outputs": [
        {
          "output_type": "execute_result",
          "data": {
            "text/plain": [
              "Text(0, 0.5, 'Loss')"
            ]
          },
          "metadata": {},
          "execution_count": 15
        },
        {
          "output_type": "display_data",
          "data": {
            "image/png": "[encoded data removed]",
            "text/plain": [
              "<Figure size 432x288 with 1 Axes>"
            ]
          },
          "metadata": {
            "needs_background": "light"
          }
        }
      ]
    },
    {
      "cell_type": "code",
      "metadata": {
        "id": "V_kjRP7qv-hP",
        "outputId": "1fa230c8-2e51-4424-d971-77a161098901",
        "colab": {
          "base_uri": "https://localhost:8080/"
        }
      },
      "source": [
        "print(\"Predicting...\")\n",
        "print(\"====================\")\n",
        "LOAD_MODEL=False\n",
        "if LOAD_MODEL:\n",
        "  cnn = tf.keras.models.load_model(pathout+model_name+\".hd5\")\n",
        "\n",
        "Y_pred_DL = cnn.predict(x_test)\n"
      ],
      "execution_count": 16,
      "outputs": [
        {
          "output_type": "stream",
          "name": "stdout",
          "text": [
            "Predicting...\n",
            "====================\n"
          ]
        }
      ]
    },
    {
      "cell_type": "code",
      "metadata": {
        "id": "b1NkGWcIv103"
      },
      "source": [
        "def histo(x, cut=None, range=None, bins=50, alpha=1, clear=True, color='blue', xlab=None, text=None, datarange=None, grd=True, loc='best'):\n",
        "        if cut is None:\n",
        "                newx = x\n",
        "        else:\n",
        "                newx = x[cut]\n",
        "        if xlab: plt.xlabel(xlab)\n",
        "        lab = ' N: '+str(len(newx))+'\\n mean: {0:.3g}'.format(np.mean(newx))+'\\n rms: {0:.3g}'.format(np.std(newx))\n",
        "        if text is not None: lab = text+'\\n'+lab\n",
        "        truc=plt.hist(newx, range=range, bins=bins, alpha=alpha, color=color, label=lab)\n",
        "        plt.legend(loc=loc)\n",
        "        if grd: plt.grid()\n",
        "        return np.array([len(newx), np.mean(newx), np.std(newx)])"
      ],
      "execution_count": 17,
      "outputs": []
    },
    {
      "cell_type": "code",
      "metadata": {
        "id": "DfeFFto6v13e",
        "outputId": "72cfcf56-c492-41f5-bab4-4461f3313929",
        "colab": {
          "base_uri": "https://localhost:8080/",
          "height": 282
        }
      },
      "source": [
        "histo(Y_pred_DL.reshape(-1)-t_test,bins=100)"
      ],
      "execution_count": 20,
      "outputs": [
        {
          "output_type": "execute_result",
          "data": {
            "text/plain": [
              "array([ 1.28634000e+05, -2.58000769e-01,  7.42341753e-01])"
            ]
          },
          "metadata": {},
          "execution_count": 20
        },
        {
          "output_type": "display_data",
          "data": {
            "image/png": "[encoded data removed]",
            "text/plain": [
              "<Figure size 432x288 with 1 Axes>"
            ]
          },
          "metadata": {
            "needs_background": "light"
          }
        }
      ]
    },
    {
      "cell_type": "markdown",
      "metadata": {
        "id": "sEml6NaOT_Sj"
      },
      "source": [
        "### Bad classifications of CNNs"
      ]
    },
    {
      "cell_type": "code",
      "metadata": {
        "id": "no-pEJEJc1w2",
        "colab": {
          "base_uri": "https://localhost:8080/"
        },
        "outputId": "462db174-2563-426b-8dde-dc3ca6cbf9f8"
      },
      "source": [
        "Y_pred_DL "
      ],
      "execution_count": null,
      "outputs": [
        {
          "output_type": "execute_result",
          "data": {
            "text/plain": [
              "array([[2.413773 ],\n",
              "       [2.5401962],\n",
              "       [2.6424744],\n",
              "       ...,\n",
              "       [0.       ],\n",
              "       [2.3487802],\n",
              "       [0.       ]], dtype=float32)"
            ]
          },
          "metadata": {},
          "execution_count": 63
        }
      ]
    },
    {
      "cell_type": "code",
      "metadata": {
        "id": "4zAMtkw1a6DO"
      },
      "source": [
        "Y_pre_DL.shape"
      ],
      "execution_count": null,
      "outputs": []
    },
    {
      "cell_type": "code",
      "metadata": {
        "colab": {
          "base_uri": "https://localhost:8080/"
        },
        "id": "P7vDpvJGX30a",
        "outputId": "da8c167d-5487-4d02-d64b-1efa0d1466ed"
      },
      "source": [
        "t_test"
      ],
      "execution_count": null,
      "outputs": [
        {
          "output_type": "execute_result",
          "data": {
            "text/plain": [
              "array([2.683, 2.549, 2.642, ..., 0.   , 2.493, 0.   ])"
            ]
          },
          "metadata": {},
          "execution_count": 65
        }
      ]
    },
    {
      "cell_type": "code",
      "metadata": {
        "id": "wrztJI4cX5N5"
      },
      "source": [
        "plt.hist(Y_pred_DL - t_test)"
      ],
      "execution_count": null,
      "outputs": []
    },
    {
      "cell_type": "code",
      "metadata": {
        "id": "XZH2J9pUYDtL"
      },
      "source": [
        "his.shape"
      ],
      "execution_count": null,
      "outputs": []
    }
  ]
}